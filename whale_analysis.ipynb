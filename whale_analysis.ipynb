{
 "cells": [
  {
   "cell_type": "markdown",
   "metadata": {},
   "source": [
    " #  A Whale off the Port(folio)\n",
    "\n",
    " In this assignment, you'll get to use what you've learned this week to evaluate the performance among various algorithmic, hedge, and mutual fund portfolios and compare them against the S&P 500."
   ]
  },
  {
   "cell_type": "code",
   "execution_count": 34,
   "metadata": {},
   "outputs": [],
   "source": [
    "import pandas as pd\n",
    "import numpy as np\n",
    "import datetime as dt\n",
    "from pathlib import Path\n",
    "import seaborn as sns\n",
    "%matplotlib inline"
   ]
  },
  {
   "cell_type": "markdown",
   "metadata": {},
   "source": [
    "# Data Cleaning\n",
    "\n",
    "In this section, you will need to read the CSV files into DataFrames and perform any necessary data cleaning steps. After cleaning, combine all DataFrames into a single DataFrame.\n",
    "\n",
    "Files:\n",
    "1. whale_returns.csv\n",
    "2. algo_returns.csv\n",
    "3. sp500_history.csv"
   ]
  },
  {
   "cell_type": "markdown",
   "metadata": {},
   "source": [
    "## Whale Returns\n",
    "\n",
    "Read the Whale Portfolio daily returns and clean the data"
   ]
  },
  {
   "cell_type": "code",
   "execution_count": 35,
   "metadata": {},
   "outputs": [
    {
     "data": {
      "text/html": [
       "<div>\n",
       "<style scoped>\n",
       "    .dataframe tbody tr th:only-of-type {\n",
       "        vertical-align: middle;\n",
       "    }\n",
       "\n",
       "    .dataframe tbody tr th {\n",
       "        vertical-align: top;\n",
       "    }\n",
       "\n",
       "    .dataframe thead th {\n",
       "        text-align: right;\n",
       "    }\n",
       "</style>\n",
       "<table border=\"1\" class=\"dataframe\">\n",
       "  <thead>\n",
       "    <tr style=\"text-align: right;\">\n",
       "      <th></th>\n",
       "      <th>Close</th>\n",
       "    </tr>\n",
       "    <tr>\n",
       "      <th>Date</th>\n",
       "      <th></th>\n",
       "    </tr>\n",
       "  </thead>\n",
       "  <tbody>\n",
       "    <tr>\n",
       "      <th>2019-04-23</th>\n",
       "      <td>$2933.68</td>\n",
       "    </tr>\n",
       "    <tr>\n",
       "      <th>2019-04-22</th>\n",
       "      <td>$2907.97</td>\n",
       "    </tr>\n",
       "    <tr>\n",
       "      <th>2019-04-18</th>\n",
       "      <td>$2905.03</td>\n",
       "    </tr>\n",
       "    <tr>\n",
       "      <th>2019-04-17</th>\n",
       "      <td>$2900.45</td>\n",
       "    </tr>\n",
       "    <tr>\n",
       "      <th>2019-04-16</th>\n",
       "      <td>$2907.06</td>\n",
       "    </tr>\n",
       "  </tbody>\n",
       "</table>\n",
       "</div>"
      ],
      "text/plain": [
       "               Close\n",
       "Date                \n",
       "2019-04-23  $2933.68\n",
       "2019-04-22  $2907.97\n",
       "2019-04-18  $2905.03\n",
       "2019-04-17  $2900.45\n",
       "2019-04-16  $2907.06"
      ]
     },
     "execution_count": 35,
     "metadata": {},
     "output_type": "execute_result"
    }
   ],
   "source": [
    "whale_returns_csv = Path(\"Resources/whale_returns.csv\")\n",
    "whale_returns = pd.read_csv(whale_returns_csv, index_col=\"Date\", infer_datetime_format=True, parse_dates=True)\n",
    "\n",
    "algo_returns_csv = Path(\"Resources/algo_returns.csv\")\n",
    "algo_returns = pd.read_csv(algo_returns_csv, index_col= \"Date\", infer_datetime_format=True, parse_dates=True)\n",
    "\n",
    "sp500_history_csv = Path(\"Resources/sp500_history.csv\")\n",
    "sp500_history = pd.read_csv(sp500_history_csv, index_col=\"Date\", infer_datetime_format=True, parse_dates=True)\n",
    "\n",
    "sp500_history.head()"
   ]
  },
  {
   "cell_type": "code",
   "execution_count": 36,
   "metadata": {},
   "outputs": [
    {
     "data": {
      "text/html": [
       "<div>\n",
       "<style scoped>\n",
       "    .dataframe tbody tr th:only-of-type {\n",
       "        vertical-align: middle;\n",
       "    }\n",
       "\n",
       "    .dataframe tbody tr th {\n",
       "        vertical-align: top;\n",
       "    }\n",
       "\n",
       "    .dataframe thead th {\n",
       "        text-align: right;\n",
       "    }\n",
       "</style>\n",
       "<table border=\"1\" class=\"dataframe\">\n",
       "  <thead>\n",
       "    <tr style=\"text-align: right;\">\n",
       "      <th></th>\n",
       "      <th>SOROS FUND MANAGEMENT LLC</th>\n",
       "      <th>PAULSON &amp; CO.INC.</th>\n",
       "      <th>TIGER GLOBAL MANAGEMENT LLC</th>\n",
       "      <th>BERKSHIRE HATHAWAY INC</th>\n",
       "    </tr>\n",
       "    <tr>\n",
       "      <th>Date</th>\n",
       "      <th></th>\n",
       "      <th></th>\n",
       "      <th></th>\n",
       "      <th></th>\n",
       "    </tr>\n",
       "  </thead>\n",
       "  <tbody>\n",
       "    <tr>\n",
       "      <th>2015-03-03</th>\n",
       "      <td>-0.001266</td>\n",
       "      <td>-0.004981</td>\n",
       "      <td>-0.000496</td>\n",
       "      <td>-0.006569</td>\n",
       "    </tr>\n",
       "    <tr>\n",
       "      <th>2015-03-04</th>\n",
       "      <td>0.002230</td>\n",
       "      <td>0.003241</td>\n",
       "      <td>-0.002534</td>\n",
       "      <td>0.004213</td>\n",
       "    </tr>\n",
       "    <tr>\n",
       "      <th>2015-03-05</th>\n",
       "      <td>0.004016</td>\n",
       "      <td>0.004076</td>\n",
       "      <td>0.002355</td>\n",
       "      <td>0.006726</td>\n",
       "    </tr>\n",
       "    <tr>\n",
       "      <th>2015-03-06</th>\n",
       "      <td>-0.007905</td>\n",
       "      <td>-0.003574</td>\n",
       "      <td>-0.008481</td>\n",
       "      <td>-0.013098</td>\n",
       "    </tr>\n",
       "    <tr>\n",
       "      <th>2015-03-09</th>\n",
       "      <td>0.000582</td>\n",
       "      <td>0.004225</td>\n",
       "      <td>0.005843</td>\n",
       "      <td>-0.001652</td>\n",
       "    </tr>\n",
       "  </tbody>\n",
       "</table>\n",
       "</div>"
      ],
      "text/plain": [
       "            SOROS FUND MANAGEMENT LLC  PAULSON & CO.INC.   \\\n",
       "Date                                                        \n",
       "2015-03-03                  -0.001266           -0.004981   \n",
       "2015-03-04                   0.002230            0.003241   \n",
       "2015-03-05                   0.004016            0.004076   \n",
       "2015-03-06                  -0.007905           -0.003574   \n",
       "2015-03-09                   0.000582            0.004225   \n",
       "\n",
       "            TIGER GLOBAL MANAGEMENT LLC  BERKSHIRE HATHAWAY INC  \n",
       "Date                                                             \n",
       "2015-03-03                    -0.000496               -0.006569  \n",
       "2015-03-04                    -0.002534                0.004213  \n",
       "2015-03-05                     0.002355                0.006726  \n",
       "2015-03-06                    -0.008481               -0.013098  \n",
       "2015-03-09                     0.005843               -0.001652  "
      ]
     },
     "execution_count": 36,
     "metadata": {},
     "output_type": "execute_result"
    }
   ],
   "source": [
    "whale_returns_clean = whale_returns.dropna()\n",
    "whale_returns_clean.drop_duplicates()\n",
    "whale_returns_clean.head()"
   ]
  },
  {
   "cell_type": "code",
   "execution_count": 37,
   "metadata": {},
   "outputs": [
    {
     "data": {
      "text/plain": [
       "SOROS FUND MANAGEMENT LLC      1\n",
       "PAULSON & CO.INC.              1\n",
       "TIGER GLOBAL MANAGEMENT LLC    1\n",
       "BERKSHIRE HATHAWAY INC         1\n",
       "dtype: int64"
      ]
     },
     "execution_count": 37,
     "metadata": {},
     "output_type": "execute_result"
    }
   ],
   "source": [
    "# Count nulls\n",
    "whale_returns.isnull().sum()"
   ]
  },
  {
   "cell_type": "code",
   "execution_count": 38,
   "metadata": {},
   "outputs": [
    {
     "data": {
      "text/plain": [
       "SOROS FUND MANAGEMENT LLC      0\n",
       "PAULSON & CO.INC.              0\n",
       "TIGER GLOBAL MANAGEMENT LLC    0\n",
       "BERKSHIRE HATHAWAY INC         0\n",
       "dtype: int64"
      ]
     },
     "execution_count": 38,
     "metadata": {},
     "output_type": "execute_result"
    }
   ],
   "source": [
    "# Drop nulls\n",
    "whale_returns_clean = whale_returns.dropna()\n",
    "whale_returns_clean.isnull().sum()"
   ]
  },
  {
   "cell_type": "markdown",
   "metadata": {},
   "source": [
    "## Algorithmic Daily Returns\n",
    "\n",
    "Read the algorithmic daily returns and clean the data"
   ]
  },
  {
   "cell_type": "code",
   "execution_count": 39,
   "metadata": {},
   "outputs": [
    {
     "data": {
      "text/html": [
       "<div>\n",
       "<style scoped>\n",
       "    .dataframe tbody tr th:only-of-type {\n",
       "        vertical-align: middle;\n",
       "    }\n",
       "\n",
       "    .dataframe tbody tr th {\n",
       "        vertical-align: top;\n",
       "    }\n",
       "\n",
       "    .dataframe thead th {\n",
       "        text-align: right;\n",
       "    }\n",
       "</style>\n",
       "<table border=\"1\" class=\"dataframe\">\n",
       "  <thead>\n",
       "    <tr style=\"text-align: right;\">\n",
       "      <th></th>\n",
       "      <th>Algo 1</th>\n",
       "      <th>Algo 2</th>\n",
       "    </tr>\n",
       "    <tr>\n",
       "      <th>Date</th>\n",
       "      <th></th>\n",
       "      <th></th>\n",
       "    </tr>\n",
       "  </thead>\n",
       "  <tbody>\n",
       "    <tr>\n",
       "      <th>2014-05-28</th>\n",
       "      <td>NaN</td>\n",
       "      <td>NaN</td>\n",
       "    </tr>\n",
       "    <tr>\n",
       "      <th>2014-05-29</th>\n",
       "      <td>1.280156</td>\n",
       "      <td>NaN</td>\n",
       "    </tr>\n",
       "    <tr>\n",
       "      <th>2014-05-30</th>\n",
       "      <td>0.122192</td>\n",
       "      <td>NaN</td>\n",
       "    </tr>\n",
       "    <tr>\n",
       "      <th>2014-06-02</th>\n",
       "      <td>0.275137</td>\n",
       "      <td>NaN</td>\n",
       "    </tr>\n",
       "    <tr>\n",
       "      <th>2014-06-03</th>\n",
       "      <td>-0.070296</td>\n",
       "      <td>NaN</td>\n",
       "    </tr>\n",
       "    <tr>\n",
       "      <th>...</th>\n",
       "      <td>...</td>\n",
       "      <td>...</td>\n",
       "    </tr>\n",
       "    <tr>\n",
       "      <th>2019-04-25</th>\n",
       "      <td>-0.376856</td>\n",
       "      <td>-19.155605</td>\n",
       "    </tr>\n",
       "    <tr>\n",
       "      <th>2019-04-26</th>\n",
       "      <td>3.368191</td>\n",
       "      <td>-1.725170</td>\n",
       "    </tr>\n",
       "    <tr>\n",
       "      <th>2019-04-29</th>\n",
       "      <td>0.746958</td>\n",
       "      <td>-0.461657</td>\n",
       "    </tr>\n",
       "    <tr>\n",
       "      <th>2019-04-30</th>\n",
       "      <td>-1.565269</td>\n",
       "      <td>-1.554776</td>\n",
       "    </tr>\n",
       "    <tr>\n",
       "      <th>2019-05-01</th>\n",
       "      <td>-1.031836</td>\n",
       "      <td>3.687689</td>\n",
       "    </tr>\n",
       "  </tbody>\n",
       "</table>\n",
       "<p>1241 rows × 2 columns</p>\n",
       "</div>"
      ],
      "text/plain": [
       "              Algo 1     Algo 2\n",
       "Date                           \n",
       "2014-05-28       NaN        NaN\n",
       "2014-05-29  1.280156        NaN\n",
       "2014-05-30  0.122192        NaN\n",
       "2014-06-02  0.275137        NaN\n",
       "2014-06-03 -0.070296        NaN\n",
       "...              ...        ...\n",
       "2019-04-25 -0.376856 -19.155605\n",
       "2019-04-26  3.368191  -1.725170\n",
       "2019-04-29  0.746958  -0.461657\n",
       "2019-04-30 -1.565269  -1.554776\n",
       "2019-05-01 -1.031836   3.687689\n",
       "\n",
       "[1241 rows x 2 columns]"
      ]
     },
     "execution_count": 39,
     "metadata": {},
     "output_type": "execute_result"
    }
   ],
   "source": [
    "# Reading algorithmic returns\n",
    "algo_returns_csv = Path(\"algo_returns.csv\")\n",
    "algo_daily_returns = algo_returns.pct_change()\n",
    "algo_daily_returns"
   ]
  },
  {
   "cell_type": "code",
   "execution_count": 40,
   "metadata": {},
   "outputs": [],
   "source": [
    "# Drop nulls\n",
    "algo_returns_clean = algo_returns.dropna()"
   ]
  },
  {
   "cell_type": "code",
   "execution_count": 41,
   "metadata": {},
   "outputs": [
    {
     "data": {
      "text/plain": [
       "Algo 1    0\n",
       "Algo 2    0\n",
       "dtype: int64"
      ]
     },
     "execution_count": 41,
     "metadata": {},
     "output_type": "execute_result"
    }
   ],
   "source": [
    "# Count nulls\n",
    "algo_returns_clean.isnull().sum()"
   ]
  },
  {
   "cell_type": "markdown",
   "metadata": {},
   "source": [
    "## S&P 500 Returns\n",
    "\n",
    "Read the S&P500 Historic Closing Prices and create a new daily returns DataFrame from the data. "
   ]
  },
  {
   "cell_type": "code",
   "execution_count": 42,
   "metadata": {},
   "outputs": [
    {
     "data": {
      "text/html": [
       "<div>\n",
       "<style scoped>\n",
       "    .dataframe tbody tr th:only-of-type {\n",
       "        vertical-align: middle;\n",
       "    }\n",
       "\n",
       "    .dataframe tbody tr th {\n",
       "        vertical-align: top;\n",
       "    }\n",
       "\n",
       "    .dataframe thead th {\n",
       "        text-align: right;\n",
       "    }\n",
       "</style>\n",
       "<table border=\"1\" class=\"dataframe\">\n",
       "  <thead>\n",
       "    <tr style=\"text-align: right;\">\n",
       "      <th></th>\n",
       "      <th>Close</th>\n",
       "    </tr>\n",
       "    <tr>\n",
       "      <th>Date</th>\n",
       "      <th></th>\n",
       "    </tr>\n",
       "  </thead>\n",
       "  <tbody>\n",
       "    <tr>\n",
       "      <th>2019-04-23</th>\n",
       "      <td>$2933.68</td>\n",
       "    </tr>\n",
       "    <tr>\n",
       "      <th>2019-04-22</th>\n",
       "      <td>$2907.97</td>\n",
       "    </tr>\n",
       "    <tr>\n",
       "      <th>2019-04-18</th>\n",
       "      <td>$2905.03</td>\n",
       "    </tr>\n",
       "    <tr>\n",
       "      <th>2019-04-17</th>\n",
       "      <td>$2900.45</td>\n",
       "    </tr>\n",
       "    <tr>\n",
       "      <th>2019-04-16</th>\n",
       "      <td>$2907.06</td>\n",
       "    </tr>\n",
       "  </tbody>\n",
       "</table>\n",
       "</div>"
      ],
      "text/plain": [
       "               Close\n",
       "Date                \n",
       "2019-04-23  $2933.68\n",
       "2019-04-22  $2907.97\n",
       "2019-04-18  $2905.03\n",
       "2019-04-17  $2900.45\n",
       "2019-04-16  $2907.06"
      ]
     },
     "execution_count": 42,
     "metadata": {},
     "output_type": "execute_result"
    }
   ],
   "source": [
    "# Reading S&P 500 Closing Prices\n",
    "sp500_history_csv = Path(\"sp500_history.csv\")\n",
    "sp500_history.head()"
   ]
  },
  {
   "cell_type": "code",
   "execution_count": 43,
   "metadata": {},
   "outputs": [
    {
     "data": {
      "text/plain": [
       "Close    object\n",
       "dtype: object"
      ]
     },
     "execution_count": 43,
     "metadata": {},
     "output_type": "execute_result"
    }
   ],
   "source": [
    "# Check Data Types\n",
    "sp500_history.dtypes"
   ]
  },
  {
   "cell_type": "code",
   "execution_count": 44,
   "metadata": {},
   "outputs": [],
   "source": [
    "# Fix Data Types\n",
    "sp500_history['Close'] = sp500_history['Close'].str.replace('$', '')"
   ]
  },
  {
   "cell_type": "code",
   "execution_count": 45,
   "metadata": {},
   "outputs": [
    {
     "data": {
      "text/html": [
       "<div>\n",
       "<style scoped>\n",
       "    .dataframe tbody tr th:only-of-type {\n",
       "        vertical-align: middle;\n",
       "    }\n",
       "\n",
       "    .dataframe tbody tr th {\n",
       "        vertical-align: top;\n",
       "    }\n",
       "\n",
       "    .dataframe thead th {\n",
       "        text-align: right;\n",
       "    }\n",
       "</style>\n",
       "<table border=\"1\" class=\"dataframe\">\n",
       "  <thead>\n",
       "    <tr style=\"text-align: right;\">\n",
       "      <th></th>\n",
       "      <th>Close</th>\n",
       "    </tr>\n",
       "    <tr>\n",
       "      <th>Date</th>\n",
       "      <th></th>\n",
       "    </tr>\n",
       "  </thead>\n",
       "  <tbody>\n",
       "    <tr>\n",
       "      <th>2019-04-23</th>\n",
       "      <td>NaN</td>\n",
       "    </tr>\n",
       "    <tr>\n",
       "      <th>2019-04-22</th>\n",
       "      <td>-0.008764</td>\n",
       "    </tr>\n",
       "    <tr>\n",
       "      <th>2019-04-18</th>\n",
       "      <td>-0.001011</td>\n",
       "    </tr>\n",
       "    <tr>\n",
       "      <th>2019-04-17</th>\n",
       "      <td>-0.001577</td>\n",
       "    </tr>\n",
       "    <tr>\n",
       "      <th>2019-04-16</th>\n",
       "      <td>0.002279</td>\n",
       "    </tr>\n",
       "  </tbody>\n",
       "</table>\n",
       "</div>"
      ],
      "text/plain": [
       "               Close\n",
       "Date                \n",
       "2019-04-23       NaN\n",
       "2019-04-22 -0.008764\n",
       "2019-04-18 -0.001011\n",
       "2019-04-17 -0.001577\n",
       "2019-04-16  0.002279"
      ]
     },
     "execution_count": 45,
     "metadata": {},
     "output_type": "execute_result"
    }
   ],
   "source": [
    "# Calculate Daily Returns\n",
    "daily_returns_sp500 = sp500_history.astype(float).pct_change()\n",
    "daily_returns_sp500.sort_index()\n",
    "daily_returns_sp500.head()"
   ]
  },
  {
   "cell_type": "code",
   "execution_count": 46,
   "metadata": {},
   "outputs": [
    {
     "data": {
      "text/html": [
       "<div>\n",
       "<style scoped>\n",
       "    .dataframe tbody tr th:only-of-type {\n",
       "        vertical-align: middle;\n",
       "    }\n",
       "\n",
       "    .dataframe tbody tr th {\n",
       "        vertical-align: top;\n",
       "    }\n",
       "\n",
       "    .dataframe thead th {\n",
       "        text-align: right;\n",
       "    }\n",
       "</style>\n",
       "<table border=\"1\" class=\"dataframe\">\n",
       "  <thead>\n",
       "    <tr style=\"text-align: right;\">\n",
       "      <th></th>\n",
       "      <th>Close</th>\n",
       "    </tr>\n",
       "    <tr>\n",
       "      <th>Date</th>\n",
       "      <th></th>\n",
       "    </tr>\n",
       "  </thead>\n",
       "  <tbody>\n",
       "    <tr>\n",
       "      <th>2019-04-23</th>\n",
       "      <td>NaN</td>\n",
       "    </tr>\n",
       "    <tr>\n",
       "      <th>2019-04-22</th>\n",
       "      <td>-0.008764</td>\n",
       "    </tr>\n",
       "    <tr>\n",
       "      <th>2019-04-18</th>\n",
       "      <td>-0.001011</td>\n",
       "    </tr>\n",
       "    <tr>\n",
       "      <th>2019-04-17</th>\n",
       "      <td>-0.001577</td>\n",
       "    </tr>\n",
       "    <tr>\n",
       "      <th>2019-04-16</th>\n",
       "      <td>0.002279</td>\n",
       "    </tr>\n",
       "  </tbody>\n",
       "</table>\n",
       "</div>"
      ],
      "text/plain": [
       "               Close\n",
       "Date                \n",
       "2019-04-23       NaN\n",
       "2019-04-22 -0.008764\n",
       "2019-04-18 -0.001011\n",
       "2019-04-17 -0.001577\n",
       "2019-04-16  0.002279"
      ]
     },
     "execution_count": 46,
     "metadata": {},
     "output_type": "execute_result"
    }
   ],
   "source": [
    "# Drop nulls\n",
    "daily_returns_sp500.dropna().copy()\n",
    "daily_returns_sp500.head()"
   ]
  },
  {
   "cell_type": "code",
   "execution_count": 47,
   "metadata": {},
   "outputs": [
    {
     "data": {
      "text/html": [
       "<div>\n",
       "<style scoped>\n",
       "    .dataframe tbody tr th:only-of-type {\n",
       "        vertical-align: middle;\n",
       "    }\n",
       "\n",
       "    .dataframe tbody tr th {\n",
       "        vertical-align: top;\n",
       "    }\n",
       "\n",
       "    .dataframe thead th {\n",
       "        text-align: right;\n",
       "    }\n",
       "</style>\n",
       "<table border=\"1\" class=\"dataframe\">\n",
       "  <thead>\n",
       "    <tr style=\"text-align: right;\">\n",
       "      <th></th>\n",
       "      <th>S&amp;P 500</th>\n",
       "    </tr>\n",
       "    <tr>\n",
       "      <th>Date</th>\n",
       "      <th></th>\n",
       "    </tr>\n",
       "  </thead>\n",
       "  <tbody>\n",
       "    <tr>\n",
       "      <th>2019-04-23</th>\n",
       "      <td>NaN</td>\n",
       "    </tr>\n",
       "    <tr>\n",
       "      <th>2019-04-22</th>\n",
       "      <td>-0.008764</td>\n",
       "    </tr>\n",
       "    <tr>\n",
       "      <th>2019-04-18</th>\n",
       "      <td>-0.001011</td>\n",
       "    </tr>\n",
       "    <tr>\n",
       "      <th>2019-04-17</th>\n",
       "      <td>-0.001577</td>\n",
       "    </tr>\n",
       "    <tr>\n",
       "      <th>2019-04-16</th>\n",
       "      <td>0.002279</td>\n",
       "    </tr>\n",
       "  </tbody>\n",
       "</table>\n",
       "</div>"
      ],
      "text/plain": [
       "             S&P 500\n",
       "Date                \n",
       "2019-04-23       NaN\n",
       "2019-04-22 -0.008764\n",
       "2019-04-18 -0.001011\n",
       "2019-04-17 -0.001577\n",
       "2019-04-16  0.002279"
      ]
     },
     "execution_count": 47,
     "metadata": {},
     "output_type": "execute_result"
    }
   ],
   "source": [
    "# Rename Column\n",
    "daily_returns_sp500 = daily_returns_sp500.rename(columns={\n",
    "    \"Close\": \"S&P 500\",})\n",
    "daily_returns_sp500.head()"
   ]
  },
  {
   "cell_type": "markdown",
   "metadata": {},
   "source": [
    "## Combine Whale, Algorithmic, and S&P 500 Returns"
   ]
  },
  {
   "cell_type": "code",
   "execution_count": 48,
   "metadata": {},
   "outputs": [
    {
     "data": {
      "text/html": [
       "<div>\n",
       "<style scoped>\n",
       "    .dataframe tbody tr th:only-of-type {\n",
       "        vertical-align: middle;\n",
       "    }\n",
       "\n",
       "    .dataframe tbody tr th {\n",
       "        vertical-align: top;\n",
       "    }\n",
       "\n",
       "    .dataframe thead th {\n",
       "        text-align: right;\n",
       "    }\n",
       "</style>\n",
       "<table border=\"1\" class=\"dataframe\">\n",
       "  <thead>\n",
       "    <tr style=\"text-align: right;\">\n",
       "      <th></th>\n",
       "      <th>SOROS FUND MANAGEMENT LLC</th>\n",
       "      <th>PAULSON &amp; CO.INC.</th>\n",
       "      <th>TIGER GLOBAL MANAGEMENT LLC</th>\n",
       "      <th>BERKSHIRE HATHAWAY INC</th>\n",
       "      <th>Algo 1</th>\n",
       "      <th>Algo 2</th>\n",
       "      <th>S&amp;P 500</th>\n",
       "    </tr>\n",
       "    <tr>\n",
       "      <th>Date</th>\n",
       "      <th></th>\n",
       "      <th></th>\n",
       "      <th></th>\n",
       "      <th></th>\n",
       "      <th></th>\n",
       "      <th></th>\n",
       "      <th></th>\n",
       "    </tr>\n",
       "  </thead>\n",
       "  <tbody>\n",
       "    <tr>\n",
       "      <th>2015-03-03</th>\n",
       "      <td>-0.001266</td>\n",
       "      <td>-0.004981</td>\n",
       "      <td>-0.000496</td>\n",
       "      <td>-0.006569</td>\n",
       "      <td>-0.001942</td>\n",
       "      <td>-0.000949</td>\n",
       "      <td>0.004408</td>\n",
       "    </tr>\n",
       "    <tr>\n",
       "      <th>2015-03-04</th>\n",
       "      <td>0.002230</td>\n",
       "      <td>0.003241</td>\n",
       "      <td>-0.002534</td>\n",
       "      <td>0.004213</td>\n",
       "      <td>-0.008589</td>\n",
       "      <td>0.002416</td>\n",
       "      <td>-0.001195</td>\n",
       "    </tr>\n",
       "    <tr>\n",
       "      <th>2015-03-05</th>\n",
       "      <td>0.004016</td>\n",
       "      <td>0.004076</td>\n",
       "      <td>0.002355</td>\n",
       "      <td>0.006726</td>\n",
       "      <td>-0.000955</td>\n",
       "      <td>0.004323</td>\n",
       "      <td>0.014378</td>\n",
       "    </tr>\n",
       "    <tr>\n",
       "      <th>2015-03-06</th>\n",
       "      <td>-0.007905</td>\n",
       "      <td>-0.003574</td>\n",
       "      <td>-0.008481</td>\n",
       "      <td>-0.013098</td>\n",
       "      <td>-0.004957</td>\n",
       "      <td>-0.011460</td>\n",
       "      <td>-0.003929</td>\n",
       "    </tr>\n",
       "    <tr>\n",
       "      <th>2015-03-09</th>\n",
       "      <td>0.000582</td>\n",
       "      <td>0.004225</td>\n",
       "      <td>0.005843</td>\n",
       "      <td>-0.001652</td>\n",
       "      <td>-0.005447</td>\n",
       "      <td>0.001303</td>\n",
       "      <td>0.017254</td>\n",
       "    </tr>\n",
       "  </tbody>\n",
       "</table>\n",
       "</div>"
      ],
      "text/plain": [
       "            SOROS FUND MANAGEMENT LLC  PAULSON & CO.INC.   \\\n",
       "Date                                                        \n",
       "2015-03-03                  -0.001266           -0.004981   \n",
       "2015-03-04                   0.002230            0.003241   \n",
       "2015-03-05                   0.004016            0.004076   \n",
       "2015-03-06                  -0.007905           -0.003574   \n",
       "2015-03-09                   0.000582            0.004225   \n",
       "\n",
       "            TIGER GLOBAL MANAGEMENT LLC  BERKSHIRE HATHAWAY INC    Algo 1  \\\n",
       "Date                                                                        \n",
       "2015-03-03                    -0.000496               -0.006569 -0.001942   \n",
       "2015-03-04                    -0.002534                0.004213 -0.008589   \n",
       "2015-03-05                     0.002355                0.006726 -0.000955   \n",
       "2015-03-06                    -0.008481               -0.013098 -0.004957   \n",
       "2015-03-09                     0.005843               -0.001652 -0.005447   \n",
       "\n",
       "              Algo 2   S&P 500  \n",
       "Date                            \n",
       "2015-03-03 -0.000949  0.004408  \n",
       "2015-03-04  0.002416 -0.001195  \n",
       "2015-03-05  0.004323  0.014378  \n",
       "2015-03-06 -0.011460 -0.003929  \n",
       "2015-03-09  0.001303  0.017254  "
      ]
     },
     "execution_count": 48,
     "metadata": {},
     "output_type": "execute_result"
    }
   ],
   "source": [
    "# Concatenate all DataFrames into a single DataFrame\n",
    "combined_df = pd.concat([whale_returns_clean, algo_returns_clean, daily_returns_sp500], axis =\"columns\", join = \"inner\")\n",
    "combined_df.head()"
   ]
  },
  {
   "cell_type": "markdown",
   "metadata": {},
   "source": [
    "---"
   ]
  },
  {
   "cell_type": "markdown",
   "metadata": {},
   "source": [
    "# Portfolio Analysis\n",
    "\n",
    "In this section, you will calculate and visualize performance and risk metrics for the portfolios."
   ]
  },
  {
   "cell_type": "markdown",
   "metadata": {},
   "source": [
    "## Performance\n",
    "\n",
    "Calculate and Plot the daily returns and cumulative returns. Does any portfolio outperform the S&P 500? "
   ]
  },
  {
   "cell_type": "code",
   "execution_count": 49,
   "metadata": {},
   "outputs": [
    {
     "data": {
      "text/plain": [
       "<matplotlib.axes._subplots.AxesSubplot at 0x7fba50ab5e20>"
      ]
     },
     "execution_count": 49,
     "metadata": {},
     "output_type": "execute_result"
    },
    {
     "data": {
      "image/png": "[encoded data removed]",
      "text/plain": [
       "<Figure size 432x288 with 1 Axes>"
      ]
     },
     "metadata": {
      "needs_background": "light"
     },
     "output_type": "display_data"
    }
   ],
   "source": [
    "# Plot daily returns\n",
    "combined_df.plot()"
   ]
  },
  {
   "cell_type": "code",
   "execution_count": 50,
   "metadata": {},
   "outputs": [
    {
     "data": {
      "text/html": [
       "<div>\n",
       "<style scoped>\n",
       "    .dataframe tbody tr th:only-of-type {\n",
       "        vertical-align: middle;\n",
       "    }\n",
       "\n",
       "    .dataframe tbody tr th {\n",
       "        vertical-align: top;\n",
       "    }\n",
       "\n",
       "    .dataframe thead th {\n",
       "        text-align: right;\n",
       "    }\n",
       "</style>\n",
       "<table border=\"1\" class=\"dataframe\">\n",
       "  <thead>\n",
       "    <tr style=\"text-align: right;\">\n",
       "      <th></th>\n",
       "      <th>SOROS FUND MANAGEMENT LLC</th>\n",
       "      <th>PAULSON &amp; CO.INC.</th>\n",
       "      <th>TIGER GLOBAL MANAGEMENT LLC</th>\n",
       "      <th>BERKSHIRE HATHAWAY INC</th>\n",
       "      <th>Algo 1</th>\n",
       "      <th>Algo 2</th>\n",
       "      <th>S&amp;P 500</th>\n",
       "    </tr>\n",
       "    <tr>\n",
       "      <th>Date</th>\n",
       "      <th></th>\n",
       "      <th></th>\n",
       "      <th></th>\n",
       "      <th></th>\n",
       "      <th></th>\n",
       "      <th></th>\n",
       "      <th></th>\n",
       "    </tr>\n",
       "  </thead>\n",
       "  <tbody>\n",
       "    <tr>\n",
       "      <th>2015-03-03</th>\n",
       "      <td>0.998734</td>\n",
       "      <td>0.995019</td>\n",
       "      <td>0.999504</td>\n",
       "      <td>0.993431</td>\n",
       "      <td>0.998058</td>\n",
       "      <td>0.999051</td>\n",
       "      <td>1.004408</td>\n",
       "    </tr>\n",
       "    <tr>\n",
       "      <th>2015-03-04</th>\n",
       "      <td>1.000962</td>\n",
       "      <td>0.998245</td>\n",
       "      <td>0.996972</td>\n",
       "      <td>0.997617</td>\n",
       "      <td>0.989486</td>\n",
       "      <td>1.001464</td>\n",
       "      <td>1.003208</td>\n",
       "    </tr>\n",
       "    <tr>\n",
       "      <th>2015-03-05</th>\n",
       "      <td>1.004981</td>\n",
       "      <td>1.002314</td>\n",
       "      <td>0.999319</td>\n",
       "      <td>1.004327</td>\n",
       "      <td>0.988541</td>\n",
       "      <td>1.005794</td>\n",
       "      <td>1.017632</td>\n",
       "    </tr>\n",
       "    <tr>\n",
       "      <th>2015-03-06</th>\n",
       "      <td>0.997037</td>\n",
       "      <td>0.998731</td>\n",
       "      <td>0.990844</td>\n",
       "      <td>0.991172</td>\n",
       "      <td>0.983641</td>\n",
       "      <td>0.994267</td>\n",
       "      <td>1.013634</td>\n",
       "    </tr>\n",
       "    <tr>\n",
       "      <th>2015-03-09</th>\n",
       "      <td>0.997617</td>\n",
       "      <td>1.002951</td>\n",
       "      <td>0.996633</td>\n",
       "      <td>0.989534</td>\n",
       "      <td>0.978283</td>\n",
       "      <td>0.995563</td>\n",
       "      <td>1.031123</td>\n",
       "    </tr>\n",
       "    <tr>\n",
       "      <th>...</th>\n",
       "      <td>...</td>\n",
       "      <td>...</td>\n",
       "      <td>...</td>\n",
       "      <td>...</td>\n",
       "      <td>...</td>\n",
       "      <td>...</td>\n",
       "      <td>...</td>\n",
       "    </tr>\n",
       "    <tr>\n",
       "      <th>2019-04-16</th>\n",
       "      <td>1.160965</td>\n",
       "      <td>0.786811</td>\n",
       "      <td>0.862080</td>\n",
       "      <td>1.526861</td>\n",
       "      <td>1.944990</td>\n",
       "      <td>1.267768</td>\n",
       "      <td>0.726708</td>\n",
       "    </tr>\n",
       "    <tr>\n",
       "      <th>2019-04-17</th>\n",
       "      <td>1.157602</td>\n",
       "      <td>0.781723</td>\n",
       "      <td>0.858279</td>\n",
       "      <td>1.531781</td>\n",
       "      <td>1.924954</td>\n",
       "      <td>1.261140</td>\n",
       "      <td>0.725562</td>\n",
       "    </tr>\n",
       "    <tr>\n",
       "      <th>2019-04-18</th>\n",
       "      <td>1.159278</td>\n",
       "      <td>0.782678</td>\n",
       "      <td>0.858778</td>\n",
       "      <td>1.534716</td>\n",
       "      <td>1.923823</td>\n",
       "      <td>1.259590</td>\n",
       "      <td>0.724829</td>\n",
       "    </tr>\n",
       "    <tr>\n",
       "      <th>2019-04-22</th>\n",
       "      <td>1.156280</td>\n",
       "      <td>0.776939</td>\n",
       "      <td>0.855652</td>\n",
       "      <td>1.533046</td>\n",
       "      <td>1.925124</td>\n",
       "      <td>1.257151</td>\n",
       "      <td>0.718476</td>\n",
       "    </tr>\n",
       "    <tr>\n",
       "      <th>2019-04-23</th>\n",
       "      <td>1.164568</td>\n",
       "      <td>0.779646</td>\n",
       "      <td>0.861189</td>\n",
       "      <td>1.553401</td>\n",
       "      <td>1.934691</td>\n",
       "      <td>1.269247</td>\n",
       "      <td>NaN</td>\n",
       "    </tr>\n",
       "  </tbody>\n",
       "</table>\n",
       "<p>1043 rows × 7 columns</p>\n",
       "</div>"
      ],
      "text/plain": [
       "            SOROS FUND MANAGEMENT LLC  PAULSON & CO.INC.   \\\n",
       "Date                                                        \n",
       "2015-03-03                   0.998734            0.995019   \n",
       "2015-03-04                   1.000962            0.998245   \n",
       "2015-03-05                   1.004981            1.002314   \n",
       "2015-03-06                   0.997037            0.998731   \n",
       "2015-03-09                   0.997617            1.002951   \n",
       "...                               ...                 ...   \n",
       "2019-04-16                   1.160965            0.786811   \n",
       "2019-04-17                   1.157602            0.781723   \n",
       "2019-04-18                   1.159278            0.782678   \n",
       "2019-04-22                   1.156280            0.776939   \n",
       "2019-04-23                   1.164568            0.779646   \n",
       "\n",
       "            TIGER GLOBAL MANAGEMENT LLC  BERKSHIRE HATHAWAY INC    Algo 1  \\\n",
       "Date                                                                        \n",
       "2015-03-03                     0.999504                0.993431  0.998058   \n",
       "2015-03-04                     0.996972                0.997617  0.989486   \n",
       "2015-03-05                     0.999319                1.004327  0.988541   \n",
       "2015-03-06                     0.990844                0.991172  0.983641   \n",
       "2015-03-09                     0.996633                0.989534  0.978283   \n",
       "...                                 ...                     ...       ...   \n",
       "2019-04-16                     0.862080                1.526861  1.944990   \n",
       "2019-04-17                     0.858279                1.531781  1.924954   \n",
       "2019-04-18                     0.858778                1.534716  1.923823   \n",
       "2019-04-22                     0.855652                1.533046  1.925124   \n",
       "2019-04-23                     0.861189                1.553401  1.934691   \n",
       "\n",
       "              Algo 2   S&P 500  \n",
       "Date                            \n",
       "2015-03-03  0.999051  1.004408  \n",
       "2015-03-04  1.001464  1.003208  \n",
       "2015-03-05  1.005794  1.017632  \n",
       "2015-03-06  0.994267  1.013634  \n",
       "2015-03-09  0.995563  1.031123  \n",
       "...              ...       ...  \n",
       "2019-04-16  1.267768  0.726708  \n",
       "2019-04-17  1.261140  0.725562  \n",
       "2019-04-18  1.259590  0.724829  \n",
       "2019-04-22  1.257151  0.718476  \n",
       "2019-04-23  1.269247       NaN  \n",
       "\n",
       "[1043 rows x 7 columns]"
      ]
     },
     "execution_count": 50,
     "metadata": {},
     "output_type": "execute_result"
    },
    {
     "data": {
      "image/png": "[encoded data removed]",
      "text/plain": [
       "<Figure size 432x288 with 1 Axes>"
      ]
     },
     "metadata": {
      "needs_background": "light"
     },
     "output_type": "display_data"
    }
   ],
   "source": [
    "# Plot cumulative returns\n",
    "cumulative_returns = (1 + combined_df).cumprod()\n",
    "cumulative_returns.plot()\n",
    "cumulative_returns"
   ]
  },
  {
   "cell_type": "markdown",
   "metadata": {},
   "source": [
    "## Risk\n",
    "\n",
    "Determine the _risk_ of each portfolio:\n",
    "\n",
    "1. Create a box plot for each portfolio. \n",
    "2. Calculate the standard deviation for all portfolios\n",
    "4. Determine which portfolios are riskier than the S&P 500\n",
    "5. Calculate the Annualized Standard Deviation"
   ]
  },
  {
   "cell_type": "code",
   "execution_count": 51,
   "metadata": {},
   "outputs": [
    {
     "data": {
      "text/plain": [
       "<matplotlib.axes._subplots.AxesSubplot at 0x7fba507c36a0>"
      ]
     },
     "execution_count": 51,
     "metadata": {},
     "output_type": "execute_result"
    },
    {
     "data": {
      "image/png": "[encoded data removed]",
      "text/plain": [
       "<Figure size 1440x720 with 1 Axes>"
      ]
     },
     "metadata": {
      "needs_background": "light"
     },
     "output_type": "display_data"
    }
   ],
   "source": [
    "# Box plot to visually show risk\n",
    "combined_df.boxplot(figsize = (20,10))"
   ]
  },
  {
   "cell_type": "code",
   "execution_count": 52,
   "metadata": {},
   "outputs": [
    {
     "data": {
      "text/plain": [
       "SOROS FUND MANAGEMENT LLC      0.007895\n",
       "PAULSON & CO.INC.              0.007023\n",
       "TIGER GLOBAL MANAGEMENT LLC    0.010894\n",
       "BERKSHIRE HATHAWAY INC         0.012919\n",
       "Algo 1                         0.007620\n",
       "Algo 2                         0.008342\n",
       "S&P 500                        0.008587\n",
       "dtype: float64"
      ]
     },
     "execution_count": 52,
     "metadata": {},
     "output_type": "execute_result"
    }
   ],
   "source": [
    "# Daily Standard Deviations\n",
    "# Calculate the standard deviation for each portfolio. \n",
    "# Which portfolios are riskier than the S&P 500?\n",
    "combined_df.std()"
   ]
  },
  {
   "cell_type": "code",
   "execution_count": 20,
   "metadata": {},
   "outputs": [
    {
     "ename": "SyntaxError",
     "evalue": "invalid syntax (<ipython-input-20-f26075cd435a>, line 2)",
     "output_type": "error",
     "traceback": [
      "\u001b[0;36m  File \u001b[0;32m\"<ipython-input-20-f26075cd435a>\"\u001b[0;36m, line \u001b[0;32m2\u001b[0m\n\u001b[0;31m    By visual observation we can see that there are two portfolios that are riskier than the S&P 500.  Tiger Global Management(0.0109) and Berkshire Hathaway(0.0130)have higher standard deviations than the S&P(0.009)\u001b[0m\n\u001b[0m       ^\u001b[0m\n\u001b[0;31mSyntaxError\u001b[0m\u001b[0;31m:\u001b[0m invalid syntax\n"
     ]
    }
   ],
   "source": [
    "# Determine which portfolios are riskier than the S&P 500\n",
    "By visual observation we can see that there are two portfolios that are riskier than the S&P 500.  Tiger Global Management(0.0109) and Berkshire Hathaway(0.0130)have higher standard deviations than the S&P(0.009)"
   ]
  },
  {
   "cell_type": "code",
   "execution_count": 53,
   "metadata": {},
   "outputs": [
    {
     "data": {
      "text/plain": [
       "SOROS FUND MANAGEMENT LLC      0.125335\n",
       "PAULSON & CO.INC.              0.111488\n",
       "TIGER GLOBAL MANAGEMENT LLC    0.172936\n",
       "BERKSHIRE HATHAWAY INC         0.205077\n",
       "Algo 1                         0.120967\n",
       "Algo 2                         0.132430\n",
       "S&P 500                        0.136313\n",
       "dtype: float64"
      ]
     },
     "execution_count": 53,
     "metadata": {},
     "output_type": "execute_result"
    }
   ],
   "source": [
    "# Calculate the annualized standard deviation (252 trading days)\n",
    "annualized_varaince = (combined_df.var()*252)\n",
    "annualized_std = np.sqrt(annualized_varaince)\n",
    "annualized_std"
   ]
  },
  {
   "cell_type": "markdown",
   "metadata": {},
   "source": [
    "---"
   ]
  },
  {
   "cell_type": "markdown",
   "metadata": {},
   "source": [
    "## Rolling Statistics\n",
    "\n",
    "Risk changes over time. Analyze the rolling statistics for Risk and Beta. \n",
    "\n",
    "1. Plot the rolling standard deviation of the various portfolios along with the rolling standard deviation of the S&P 500 (consider a 21 day window). Does the risk increase for each of the portfolios at the same time risk increases in the S&P?\n",
    "2. Construct a correlation table for the algorithmic, whale, and S&P 500 returns. Which returns most closely mimic the S&P?\n",
    "3. Choose one portfolio and plot a rolling beta between that portfolio's returns and S&P 500 returns. Does the portfolio seem sensitive to movements in the S&P 500?\n",
    "4. An alternative way to calculate a rolling window is to take the exponentially weighted moving average. This is like a moving window average, but it assigns greater importance to more recent observations. Try calculating the ewm with a 21 day half-life."
   ]
  },
  {
   "cell_type": "code",
   "execution_count": 54,
   "metadata": {},
   "outputs": [
    {
     "data": {
      "text/plain": [
       "<matplotlib.axes._subplots.AxesSubplot at 0x7fba503dc0a0>"
      ]
     },
     "execution_count": 54,
     "metadata": {},
     "output_type": "execute_result"
    },
    {
     "data": {
      "image/png": "[encoded data removed]",
      "text/plain": [
       "<Figure size 1080x576 with 1 Axes>"
      ]
     },
     "metadata": {
      "needs_background": "light"
     },
     "output_type": "display_data"
    }
   ],
   "source": [
    "# Calculate and plot the rolling standard deviation for\n",
    "# the S&P 500 and whale portfolios using a 21 trading day window\n",
    "combined_df.rolling(window=21).std().plot(figsize=(15,8), title = \"Rolling Standard Deviations\")"
   ]
  },
  {
   "cell_type": "code",
   "execution_count": 55,
   "metadata": {},
   "outputs": [
    {
     "data": {
      "text/html": [
       "<style  type=\"text/css\" >\n",
       "    #T_ebbf6814_0914_11eb_a2ac_4748d9da3300row0_col0 {\n",
       "            background-color:  #ffff66;\n",
       "            color:  #000000;\n",
       "        }    #T_ebbf6814_0914_11eb_a2ac_4748d9da3300row0_col1 {\n",
       "            background-color:  #b2d866;\n",
       "            color:  #000000;\n",
       "        }    #T_ebbf6814_0914_11eb_a2ac_4748d9da3300row0_col2 {\n",
       "            background-color:  #8fc766;\n",
       "            color:  #000000;\n",
       "        }    #T_ebbf6814_0914_11eb_a2ac_4748d9da3300row0_col3 {\n",
       "            background-color:  #c1e066;\n",
       "            color:  #000000;\n",
       "        }    #T_ebbf6814_0914_11eb_a2ac_4748d9da3300row0_col4 {\n",
       "            background-color:  #57ab66;\n",
       "            color:  #000000;\n",
       "        }    #T_ebbf6814_0914_11eb_a2ac_4748d9da3300row0_col5 {\n",
       "            background-color:  #d3e966;\n",
       "            color:  #000000;\n",
       "        }    #T_ebbf6814_0914_11eb_a2ac_4748d9da3300row0_col6 {\n",
       "            background-color:  #088466;\n",
       "            color:  #f1f1f1;\n",
       "        }    #T_ebbf6814_0914_11eb_a2ac_4748d9da3300row1_col0 {\n",
       "            background-color:  #b3d966;\n",
       "            color:  #000000;\n",
       "        }    #T_ebbf6814_0914_11eb_a2ac_4748d9da3300row1_col1 {\n",
       "            background-color:  #ffff66;\n",
       "            color:  #000000;\n",
       "        }    #T_ebbf6814_0914_11eb_a2ac_4748d9da3300row1_col2 {\n",
       "            background-color:  #6fb766;\n",
       "            color:  #000000;\n",
       "        }    #T_ebbf6814_0914_11eb_a2ac_4748d9da3300row1_col3 {\n",
       "            background-color:  #8dc666;\n",
       "            color:  #000000;\n",
       "        }    #T_ebbf6814_0914_11eb_a2ac_4748d9da3300row1_col4 {\n",
       "            background-color:  #4aa466;\n",
       "            color:  #000000;\n",
       "        }    #T_ebbf6814_0914_11eb_a2ac_4748d9da3300row1_col5 {\n",
       "            background-color:  #add666;\n",
       "            color:  #000000;\n",
       "        }    #T_ebbf6814_0914_11eb_a2ac_4748d9da3300row1_col6 {\n",
       "            background-color:  #0b8566;\n",
       "            color:  #000000;\n",
       "        }    #T_ebbf6814_0914_11eb_a2ac_4748d9da3300row2_col0 {\n",
       "            background-color:  #8fc766;\n",
       "            color:  #000000;\n",
       "        }    #T_ebbf6814_0914_11eb_a2ac_4748d9da3300row2_col1 {\n",
       "            background-color:  #6db666;\n",
       "            color:  #000000;\n",
       "        }    #T_ebbf6814_0914_11eb_a2ac_4748d9da3300row2_col2 {\n",
       "            background-color:  #ffff66;\n",
       "            color:  #000000;\n",
       "        }    #T_ebbf6814_0914_11eb_a2ac_4748d9da3300row2_col3 {\n",
       "            background-color:  #6eb666;\n",
       "            color:  #000000;\n",
       "        }    #T_ebbf6814_0914_11eb_a2ac_4748d9da3300row2_col4 {\n",
       "            background-color:  #319866;\n",
       "            color:  #000000;\n",
       "        }    #T_ebbf6814_0914_11eb_a2ac_4748d9da3300row2_col5 {\n",
       "            background-color:  #82c066;\n",
       "            color:  #000000;\n",
       "        }    #T_ebbf6814_0914_11eb_a2ac_4748d9da3300row2_col6 {\n",
       "            background-color:  #088466;\n",
       "            color:  #f1f1f1;\n",
       "        }    #T_ebbf6814_0914_11eb_a2ac_4748d9da3300row3_col0 {\n",
       "            background-color:  #c1e066;\n",
       "            color:  #000000;\n",
       "        }    #T_ebbf6814_0914_11eb_a2ac_4748d9da3300row3_col1 {\n",
       "            background-color:  #8ac466;\n",
       "            color:  #000000;\n",
       "        }    #T_ebbf6814_0914_11eb_a2ac_4748d9da3300row3_col2 {\n",
       "            background-color:  #6cb666;\n",
       "            color:  #000000;\n",
       "        }    #T_ebbf6814_0914_11eb_a2ac_4748d9da3300row3_col3 {\n",
       "            background-color:  #ffff66;\n",
       "            color:  #000000;\n",
       "        }    #T_ebbf6814_0914_11eb_a2ac_4748d9da3300row3_col4 {\n",
       "            background-color:  #50a866;\n",
       "            color:  #000000;\n",
       "        }    #T_ebbf6814_0914_11eb_a2ac_4748d9da3300row3_col5 {\n",
       "            background-color:  #b0d866;\n",
       "            color:  #000000;\n",
       "        }    #T_ebbf6814_0914_11eb_a2ac_4748d9da3300row3_col6 {\n",
       "            background-color:  #048266;\n",
       "            color:  #f1f1f1;\n",
       "        }    #T_ebbf6814_0914_11eb_a2ac_4748d9da3300row4_col0 {\n",
       "            background-color:  #52a866;\n",
       "            color:  #000000;\n",
       "        }    #T_ebbf6814_0914_11eb_a2ac_4748d9da3300row4_col1 {\n",
       "            background-color:  #42a066;\n",
       "            color:  #000000;\n",
       "        }    #T_ebbf6814_0914_11eb_a2ac_4748d9da3300row4_col2 {\n",
       "            background-color:  #2a9466;\n",
       "            color:  #000000;\n",
       "        }    #T_ebbf6814_0914_11eb_a2ac_4748d9da3300row4_col3 {\n",
       "            background-color:  #4da666;\n",
       "            color:  #000000;\n",
       "        }    #T_ebbf6814_0914_11eb_a2ac_4748d9da3300row4_col4 {\n",
       "            background-color:  #ffff66;\n",
       "            color:  #000000;\n",
       "        }    #T_ebbf6814_0914_11eb_a2ac_4748d9da3300row4_col5 {\n",
       "            background-color:  #4aa466;\n",
       "            color:  #000000;\n",
       "        }    #T_ebbf6814_0914_11eb_a2ac_4748d9da3300row4_col6 {\n",
       "            background-color:  #008066;\n",
       "            color:  #f1f1f1;\n",
       "        }    #T_ebbf6814_0914_11eb_a2ac_4748d9da3300row5_col0 {\n",
       "            background-color:  #d3e966;\n",
       "            color:  #000000;\n",
       "        }    #T_ebbf6814_0914_11eb_a2ac_4748d9da3300row5_col1 {\n",
       "            background-color:  #acd666;\n",
       "            color:  #000000;\n",
       "        }    #T_ebbf6814_0914_11eb_a2ac_4748d9da3300row5_col2 {\n",
       "            background-color:  #82c066;\n",
       "            color:  #000000;\n",
       "        }    #T_ebbf6814_0914_11eb_a2ac_4748d9da3300row5_col3 {\n",
       "            background-color:  #b1d866;\n",
       "            color:  #000000;\n",
       "        }    #T_ebbf6814_0914_11eb_a2ac_4748d9da3300row5_col4 {\n",
       "            background-color:  #4fa766;\n",
       "            color:  #000000;\n",
       "        }    #T_ebbf6814_0914_11eb_a2ac_4748d9da3300row5_col5 {\n",
       "            background-color:  #ffff66;\n",
       "            color:  #000000;\n",
       "        }    #T_ebbf6814_0914_11eb_a2ac_4748d9da3300row5_col6 {\n",
       "            background-color:  #078366;\n",
       "            color:  #f1f1f1;\n",
       "        }    #T_ebbf6814_0914_11eb_a2ac_4748d9da3300row6_col0 {\n",
       "            background-color:  #008066;\n",
       "            color:  #f1f1f1;\n",
       "        }    #T_ebbf6814_0914_11eb_a2ac_4748d9da3300row6_col1 {\n",
       "            background-color:  #008066;\n",
       "            color:  #f1f1f1;\n",
       "        }    #T_ebbf6814_0914_11eb_a2ac_4748d9da3300row6_col2 {\n",
       "            background-color:  #008066;\n",
       "            color:  #f1f1f1;\n",
       "        }    #T_ebbf6814_0914_11eb_a2ac_4748d9da3300row6_col3 {\n",
       "            background-color:  #008066;\n",
       "            color:  #f1f1f1;\n",
       "        }    #T_ebbf6814_0914_11eb_a2ac_4748d9da3300row6_col4 {\n",
       "            background-color:  #008066;\n",
       "            color:  #f1f1f1;\n",
       "        }    #T_ebbf6814_0914_11eb_a2ac_4748d9da3300row6_col5 {\n",
       "            background-color:  #008066;\n",
       "            color:  #f1f1f1;\n",
       "        }    #T_ebbf6814_0914_11eb_a2ac_4748d9da3300row6_col6 {\n",
       "            background-color:  #ffff66;\n",
       "            color:  #000000;\n",
       "        }</style><table id=\"T_ebbf6814_0914_11eb_a2ac_4748d9da3300\" ><thead>    <tr>        <th class=\"blank level0\" ></th>        <th class=\"col_heading level0 col0\" >SOROS FUND MANAGEMENT LLC</th>        <th class=\"col_heading level0 col1\" >PAULSON & CO.INC. </th>        <th class=\"col_heading level0 col2\" >TIGER GLOBAL MANAGEMENT LLC</th>        <th class=\"col_heading level0 col3\" >BERKSHIRE HATHAWAY INC</th>        <th class=\"col_heading level0 col4\" >Algo 1</th>        <th class=\"col_heading level0 col5\" >Algo 2</th>        <th class=\"col_heading level0 col6\" >S&P 500</th>    </tr></thead><tbody>\n",
       "                <tr>\n",
       "                        <th id=\"T_ebbf6814_0914_11eb_a2ac_4748d9da3300level0_row0\" class=\"row_heading level0 row0\" >SOROS FUND MANAGEMENT LLC</th>\n",
       "                        <td id=\"T_ebbf6814_0914_11eb_a2ac_4748d9da3300row0_col0\" class=\"data row0 col0\" >1.000000</td>\n",
       "                        <td id=\"T_ebbf6814_0914_11eb_a2ac_4748d9da3300row0_col1\" class=\"data row0 col1\" >0.699914</td>\n",
       "                        <td id=\"T_ebbf6814_0914_11eb_a2ac_4748d9da3300row0_col2\" class=\"data row0 col2\" >0.561243</td>\n",
       "                        <td id=\"T_ebbf6814_0914_11eb_a2ac_4748d9da3300row0_col3\" class=\"data row0 col3\" >0.754360</td>\n",
       "                        <td id=\"T_ebbf6814_0914_11eb_a2ac_4748d9da3300row0_col4\" class=\"data row0 col4\" >0.321211</td>\n",
       "                        <td id=\"T_ebbf6814_0914_11eb_a2ac_4748d9da3300row0_col5\" class=\"data row0 col5\" >0.826873</td>\n",
       "                        <td id=\"T_ebbf6814_0914_11eb_a2ac_4748d9da3300row0_col6\" class=\"data row0 col6\" >0.000574</td>\n",
       "            </tr>\n",
       "            <tr>\n",
       "                        <th id=\"T_ebbf6814_0914_11eb_a2ac_4748d9da3300level0_row1\" class=\"row_heading level0 row1\" >PAULSON & CO.INC. </th>\n",
       "                        <td id=\"T_ebbf6814_0914_11eb_a2ac_4748d9da3300row1_col0\" class=\"data row1 col0\" >0.699914</td>\n",
       "                        <td id=\"T_ebbf6814_0914_11eb_a2ac_4748d9da3300row1_col1\" class=\"data row1 col1\" >1.000000</td>\n",
       "                        <td id=\"T_ebbf6814_0914_11eb_a2ac_4748d9da3300row1_col2\" class=\"data row1 col2\" >0.434479</td>\n",
       "                        <td id=\"T_ebbf6814_0914_11eb_a2ac_4748d9da3300row1_col3\" class=\"data row1 col3\" >0.545623</td>\n",
       "                        <td id=\"T_ebbf6814_0914_11eb_a2ac_4748d9da3300row1_col4\" class=\"data row1 col4\" >0.268840</td>\n",
       "                        <td id=\"T_ebbf6814_0914_11eb_a2ac_4748d9da3300row1_col5\" class=\"data row1 col5\" >0.678152</td>\n",
       "                        <td id=\"T_ebbf6814_0914_11eb_a2ac_4748d9da3300row1_col6\" class=\"data row1 col6\" >0.013549</td>\n",
       "            </tr>\n",
       "            <tr>\n",
       "                        <th id=\"T_ebbf6814_0914_11eb_a2ac_4748d9da3300level0_row2\" class=\"row_heading level0 row2\" >TIGER GLOBAL MANAGEMENT LLC</th>\n",
       "                        <td id=\"T_ebbf6814_0914_11eb_a2ac_4748d9da3300row2_col0\" class=\"data row2 col0\" >0.561243</td>\n",
       "                        <td id=\"T_ebbf6814_0914_11eb_a2ac_4748d9da3300row2_col1\" class=\"data row2 col1\" >0.434479</td>\n",
       "                        <td id=\"T_ebbf6814_0914_11eb_a2ac_4748d9da3300row2_col2\" class=\"data row2 col2\" >1.000000</td>\n",
       "                        <td id=\"T_ebbf6814_0914_11eb_a2ac_4748d9da3300row2_col3\" class=\"data row2 col3\" >0.424423</td>\n",
       "                        <td id=\"T_ebbf6814_0914_11eb_a2ac_4748d9da3300row2_col4\" class=\"data row2 col4\" >0.164387</td>\n",
       "                        <td id=\"T_ebbf6814_0914_11eb_a2ac_4748d9da3300row2_col5\" class=\"data row2 col5\" >0.507414</td>\n",
       "                        <td id=\"T_ebbf6814_0914_11eb_a2ac_4748d9da3300row2_col6\" class=\"data row2 col6\" >-0.001505</td>\n",
       "            </tr>\n",
       "            <tr>\n",
       "                        <th id=\"T_ebbf6814_0914_11eb_a2ac_4748d9da3300level0_row3\" class=\"row_heading level0 row3\" >BERKSHIRE HATHAWAY INC</th>\n",
       "                        <td id=\"T_ebbf6814_0914_11eb_a2ac_4748d9da3300row3_col0\" class=\"data row3 col0\" >0.754360</td>\n",
       "                        <td id=\"T_ebbf6814_0914_11eb_a2ac_4748d9da3300row3_col1\" class=\"data row3 col1\" >0.545623</td>\n",
       "                        <td id=\"T_ebbf6814_0914_11eb_a2ac_4748d9da3300row3_col2\" class=\"data row3 col2\" >0.424423</td>\n",
       "                        <td id=\"T_ebbf6814_0914_11eb_a2ac_4748d9da3300row3_col3\" class=\"data row3 col3\" >1.000000</td>\n",
       "                        <td id=\"T_ebbf6814_0914_11eb_a2ac_4748d9da3300row3_col4\" class=\"data row3 col4\" >0.292033</td>\n",
       "                        <td id=\"T_ebbf6814_0914_11eb_a2ac_4748d9da3300row3_col5\" class=\"data row3 col5\" >0.688082</td>\n",
       "                        <td id=\"T_ebbf6814_0914_11eb_a2ac_4748d9da3300row3_col6\" class=\"data row3 col6\" >-0.013856</td>\n",
       "            </tr>\n",
       "            <tr>\n",
       "                        <th id=\"T_ebbf6814_0914_11eb_a2ac_4748d9da3300level0_row4\" class=\"row_heading level0 row4\" >Algo 1</th>\n",
       "                        <td id=\"T_ebbf6814_0914_11eb_a2ac_4748d9da3300row4_col0\" class=\"data row4 col0\" >0.321211</td>\n",
       "                        <td id=\"T_ebbf6814_0914_11eb_a2ac_4748d9da3300row4_col1\" class=\"data row4 col1\" >0.268840</td>\n",
       "                        <td id=\"T_ebbf6814_0914_11eb_a2ac_4748d9da3300row4_col2\" class=\"data row4 col2\" >0.164387</td>\n",
       "                        <td id=\"T_ebbf6814_0914_11eb_a2ac_4748d9da3300row4_col3\" class=\"data row4 col3\" >0.292033</td>\n",
       "                        <td id=\"T_ebbf6814_0914_11eb_a2ac_4748d9da3300row4_col4\" class=\"data row4 col4\" >1.000000</td>\n",
       "                        <td id=\"T_ebbf6814_0914_11eb_a2ac_4748d9da3300row4_col5\" class=\"data row4 col5\" >0.288243</td>\n",
       "                        <td id=\"T_ebbf6814_0914_11eb_a2ac_4748d9da3300row4_col6\" class=\"data row4 col6\" >-0.033963</td>\n",
       "            </tr>\n",
       "            <tr>\n",
       "                        <th id=\"T_ebbf6814_0914_11eb_a2ac_4748d9da3300level0_row5\" class=\"row_heading level0 row5\" >Algo 2</th>\n",
       "                        <td id=\"T_ebbf6814_0914_11eb_a2ac_4748d9da3300row5_col0\" class=\"data row5 col0\" >0.826873</td>\n",
       "                        <td id=\"T_ebbf6814_0914_11eb_a2ac_4748d9da3300row5_col1\" class=\"data row5 col1\" >0.678152</td>\n",
       "                        <td id=\"T_ebbf6814_0914_11eb_a2ac_4748d9da3300row5_col2\" class=\"data row5 col2\" >0.507414</td>\n",
       "                        <td id=\"T_ebbf6814_0914_11eb_a2ac_4748d9da3300row5_col3\" class=\"data row5 col3\" >0.688082</td>\n",
       "                        <td id=\"T_ebbf6814_0914_11eb_a2ac_4748d9da3300row5_col4\" class=\"data row5 col4\" >0.288243</td>\n",
       "                        <td id=\"T_ebbf6814_0914_11eb_a2ac_4748d9da3300row5_col5\" class=\"data row5 col5\" >1.000000</td>\n",
       "                        <td id=\"T_ebbf6814_0914_11eb_a2ac_4748d9da3300row5_col6\" class=\"data row5 col6\" >-0.002192</td>\n",
       "            </tr>\n",
       "            <tr>\n",
       "                        <th id=\"T_ebbf6814_0914_11eb_a2ac_4748d9da3300level0_row6\" class=\"row_heading level0 row6\" >S&P 500</th>\n",
       "                        <td id=\"T_ebbf6814_0914_11eb_a2ac_4748d9da3300row6_col0\" class=\"data row6 col0\" >0.000574</td>\n",
       "                        <td id=\"T_ebbf6814_0914_11eb_a2ac_4748d9da3300row6_col1\" class=\"data row6 col1\" >0.013549</td>\n",
       "                        <td id=\"T_ebbf6814_0914_11eb_a2ac_4748d9da3300row6_col2\" class=\"data row6 col2\" >-0.001505</td>\n",
       "                        <td id=\"T_ebbf6814_0914_11eb_a2ac_4748d9da3300row6_col3\" class=\"data row6 col3\" >-0.013856</td>\n",
       "                        <td id=\"T_ebbf6814_0914_11eb_a2ac_4748d9da3300row6_col4\" class=\"data row6 col4\" >-0.033963</td>\n",
       "                        <td id=\"T_ebbf6814_0914_11eb_a2ac_4748d9da3300row6_col5\" class=\"data row6 col5\" >-0.002192</td>\n",
       "                        <td id=\"T_ebbf6814_0914_11eb_a2ac_4748d9da3300row6_col6\" class=\"data row6 col6\" >1.000000</td>\n",
       "            </tr>\n",
       "    </tbody></table>"
      ],
      "text/plain": [
       "<pandas.io.formats.style.Styler at 0x7fba507a9d00>"
      ]
     },
     "execution_count": 55,
     "metadata": {},
     "output_type": "execute_result"
    }
   ],
   "source": [
    "# Construct a correlation table\n",
    "correlation = combined_df.corr()\n",
    "correlation.style.background_gradient(cmap=\"summer\")"
   ]
  },
  {
   "cell_type": "code",
   "execution_count": 56,
   "metadata": {},
   "outputs": [
    {
     "data": {
      "text/plain": [
       "<matplotlib.axes._subplots.AxesSubplot at 0x7fba50819850>"
      ]
     },
     "execution_count": 56,
     "metadata": {},
     "output_type": "execute_result"
    },
    {
     "data": {
      "image/png": "[encoded data removed]",
      "text/plain": [
       "<Figure size 432x288 with 2 Axes>"
      ]
     },
     "metadata": {
      "needs_background": "light"
     },
     "output_type": "display_data"
    }
   ],
   "source": [
    "#heatmap\n",
    "sns.heatmap(correlation, vmin=-1, vmax=1)"
   ]
  },
  {
   "cell_type": "code",
   "execution_count": 57,
   "metadata": {},
   "outputs": [
    {
     "data": {
      "text/plain": [
       "-1.5371091324717566e-06"
      ]
     },
     "execution_count": 57,
     "metadata": {},
     "output_type": "execute_result"
    }
   ],
   "source": [
    "# Calculate Beta for a single portfolio compared to the total market (S&P 500)\n",
    "# (Your graph may differ, dependent upon which portfolio you are comparing)\n",
    "covariance = combined_df['BERKSHIRE HATHAWAY INC'].cov(combined_df['S&P 500'])\n",
    "covariance\n"
   ]
  },
  {
   "cell_type": "code",
   "execution_count": 58,
   "metadata": {},
   "outputs": [
    {
     "data": {
      "text/plain": [
       "Date\n",
       "2015-03-03         NaN\n",
       "2015-03-04         NaN\n",
       "2015-03-05         NaN\n",
       "2015-03-06         NaN\n",
       "2015-03-09         NaN\n",
       "                ...   \n",
       "2019-04-16    0.000095\n",
       "2019-04-17    0.000090\n",
       "2019-04-18    0.000090\n",
       "2019-04-22    0.000083\n",
       "2019-04-23    0.000044\n",
       "Name: BERKSHIRE HATHAWAY INC, Length: 1043, dtype: float64"
      ]
     },
     "execution_count": 58,
     "metadata": {},
     "output_type": "execute_result"
    }
   ],
   "source": [
    "rolling_variance = combined_df['BERKSHIRE HATHAWAY INC'].rolling(window=21).var()\n",
    "rolling_variance"
   ]
  },
  {
   "cell_type": "code",
   "execution_count": 59,
   "metadata": {},
   "outputs": [
    {
     "data": {
      "text/plain": [
       "Date\n",
       "2015-03-03         NaN\n",
       "2015-03-04         NaN\n",
       "2015-03-05         NaN\n",
       "2015-03-06         NaN\n",
       "2015-03-09         NaN\n",
       "                ...   \n",
       "2019-04-16   -0.016234\n",
       "2019-04-17   -0.017084\n",
       "2019-04-18   -0.017123\n",
       "2019-04-22   -0.018545\n",
       "2019-04-23   -0.035269\n",
       "Name: BERKSHIRE HATHAWAY INC, Length: 1043, dtype: float64"
      ]
     },
     "execution_count": 59,
     "metadata": {},
     "output_type": "execute_result"
    }
   ],
   "source": [
    "ERK_beta = covariance / rolling_variance\n",
    "ERK_beta"
   ]
  },
  {
   "cell_type": "code",
   "execution_count": 60,
   "metadata": {},
   "outputs": [
    {
     "data": {
      "text/plain": [
       "<matplotlib.legend.Legend at 0x7fba53728340>"
      ]
     },
     "execution_count": 60,
     "metadata": {},
     "output_type": "execute_result"
    },
    {
     "data": {
      "image/png": "[encoded data removed]",
      "text/plain": [
       "<Figure size 432x288 with 1 Axes>"
      ]
     },
     "metadata": {
      "needs_background": "light"
     },
     "output_type": "display_data"
    }
   ],
   "source": [
    "ax=ERK_beta.plot()\n",
    "ERK_beta.plot(ax=ax)\n",
    "ax.legend([\"S&P 500\",\"BERKSHIRE HATHAWAY INC\"])"
   ]
  },
  {
   "cell_type": "markdown",
   "metadata": {},
   "source": [
    "---"
   ]
  },
  {
   "cell_type": "markdown",
   "metadata": {},
   "source": [
    "## Sharpe Ratios\n",
    "In reality, investment managers and thier institutional investors look at the ratio of return-to-risk, and not just returns alone. (After all, if you could invest in one of two portfolios, each offered the same 10% return, yet one offered lower risk, you'd take that one, right?)\n",
    "\n",
    "1. Using the daily returns, calculate and visualize the Sharpe ratios using a bar plot.\n",
    "2. Determine whether the algorithmic strategies outperform both the market (S&P 500) and the whales portfolios."
   ]
  },
  {
   "cell_type": "code",
   "execution_count": 61,
   "metadata": {},
   "outputs": [
    {
     "data": {
      "text/plain": [
       "SOROS FUND MANAGEMENT LLC      0.356417\n",
       "PAULSON & CO.INC.             -0.483570\n",
       "TIGER GLOBAL MANAGEMENT LLC   -0.121060\n",
       "BERKSHIRE HATHAWAY INC         0.621810\n",
       "Algo 1                         1.378648\n",
       "Algo 2                         0.501364\n",
       "S&P 500                       -0.518582\n",
       "dtype: float64"
      ]
     },
     "execution_count": 61,
     "metadata": {},
     "output_type": "execute_result"
    }
   ],
   "source": [
    "# Calculate annualized Sharpe Ratios\n",
    "sharpe_ratios = (combined_df.mean() * 252) / (combined_df.std() * np.sqrt(252))\n",
    "sharpe_ratios"
   ]
  },
  {
   "cell_type": "code",
   "execution_count": 62,
   "metadata": {},
   "outputs": [
    {
     "data": {
      "text/plain": [
       "<matplotlib.axes._subplots.AxesSubplot at 0x7fba4e62e4c0>"
      ]
     },
     "execution_count": 62,
     "metadata": {},
     "output_type": "execute_result"
    },
    {
     "data": {
      "image/png": "[encoded data removed]",
      "text/plain": [
       "<Figure size 432x288 with 1 Axes>"
      ]
     },
     "metadata": {
      "needs_background": "light"
     },
     "output_type": "display_data"
    }
   ],
   "source": [
    "# Visualize the sharpe ratios as a bar plot\n",
    "sharpe_ratios.plot(kind=\"bar\", title=\"Sharpe Ratios\")"
   ]
  },
  {
   "cell_type": "markdown",
   "metadata": {},
   "source": [
    "On the basis of this performance metric, do our algo strategies outperform both 'the market' and the whales? Type your answer here:"
   ]
  },
  {
   "cell_type": "markdown",
   "metadata": {},
   "source": [
    "---"
   ]
  },
  {
   "cell_type": "markdown",
   "metadata": {},
   "source": [
    "# Portfolio Returns\n",
    "\n",
    "In this section, you will build your own portfolio of stocks, calculate the returns, and compare the results to the Whale Portfolios and the S&P 500. \n",
    "\n",
    "1. Visit [Google Sheets](https://docs.google.com/spreadsheets/) and use the in-built Google Finance function to choose 3-5 stocks for your own portfolio.\n",
    "2. Download the data as CSV files and calculate the portfolio returns.\n",
    "3. Calculate the returns for each stock.\n",
    "4. Using those returns, calculate the weighted returns for your entire portfolio assuming an equal number of shares for each stock.\n",
    "5. Add your portfolio returns to the DataFrame with the other portfolios and rerun the analysis. How does your portfolio fair?\n",
    "\n",
    "\n",
    "## Your analysis should include the following:\n",
    "\n",
    "- Using all portfolios:\n",
    " - The annualized standard deviation (252 trading days) for all portfolios.\n",
    " - The plotted rolling standard deviation using a 21 trading day window for all portfolios.\n",
    " - The calculated annualized Sharpe Ratios and the accompanying bar plot visualization.\n",
    " - A correlation table.\n",
    "- Using your custom portfolio and one other of your choosing:\n",
    " - The plotted beta. "
   ]
  },
  {
   "cell_type": "markdown",
   "metadata": {},
   "source": [
    "## Choose 3-5 custom stocks with at last 1 year's worth of historic prices and create a DataFrame of the closing prices and dates for each stock."
   ]
  },
  {
   "cell_type": "code",
   "execution_count": 77,
   "metadata": {},
   "outputs": [
    {
     "data": {
      "text/html": [
       "<div>\n",
       "<style scoped>\n",
       "    .dataframe tbody tr th:only-of-type {\n",
       "        vertical-align: middle;\n",
       "    }\n",
       "\n",
       "    .dataframe tbody tr th {\n",
       "        vertical-align: top;\n",
       "    }\n",
       "\n",
       "    .dataframe thead th {\n",
       "        text-align: right;\n",
       "    }\n",
       "</style>\n",
       "<table border=\"1\" class=\"dataframe\">\n",
       "  <thead>\n",
       "    <tr style=\"text-align: right;\">\n",
       "      <th></th>\n",
       "      <th>NOCP</th>\n",
       "    </tr>\n",
       "    <tr>\n",
       "      <th>Date</th>\n",
       "      <th></th>\n",
       "    </tr>\n",
       "  </thead>\n",
       "  <tbody>\n",
       "    <tr>\n",
       "      <th>2019-05-09</th>\n",
       "      <td>1162.38</td>\n",
       "    </tr>\n",
       "    <tr>\n",
       "      <th>2019-05-08</th>\n",
       "      <td>1166.27</td>\n",
       "    </tr>\n",
       "    <tr>\n",
       "      <th>2019-05-07</th>\n",
       "      <td>1174.10</td>\n",
       "    </tr>\n",
       "    <tr>\n",
       "      <th>2019-05-06</th>\n",
       "      <td>1189.39</td>\n",
       "    </tr>\n",
       "    <tr>\n",
       "      <th>2019-05-03</th>\n",
       "      <td>1185.40</td>\n",
       "    </tr>\n",
       "  </tbody>\n",
       "</table>\n",
       "</div>"
      ],
      "text/plain": [
       "               NOCP\n",
       "Date               \n",
       "2019-05-09  1162.38\n",
       "2019-05-08  1166.27\n",
       "2019-05-07  1174.10\n",
       "2019-05-06  1189.39\n",
       "2019-05-03  1185.40"
      ]
     },
     "execution_count": 77,
     "metadata": {},
     "output_type": "execute_result"
    }
   ],
   "source": [
    "# Google stock\n",
    "goog_csv = Path(\"Resources/goog_historical.csv\")\n",
    "goog_df = pd.read_csv(goog_csv, index_col=\"Trade DATE\", infer_datetime_format=True, parse_dates=True)\n",
    "#(goog_df.index).date\n",
    "#goog_df_index = goog_df.index.date\n",
    "goog_df.index.names=[\"Date\"]\n",
    "goog_df.drop(columns=['Symbol'],axis=1,inplace = True)\n",
    "goog_df.head()\n"
   ]
  },
  {
   "cell_type": "code",
   "execution_count": 78,
   "metadata": {},
   "outputs": [
    {
     "data": {
      "text/html": [
       "<div>\n",
       "<style scoped>\n",
       "    .dataframe tbody tr th:only-of-type {\n",
       "        vertical-align: middle;\n",
       "    }\n",
       "\n",
       "    .dataframe tbody tr th {\n",
       "        vertical-align: top;\n",
       "    }\n",
       "\n",
       "    .dataframe thead th {\n",
       "        text-align: right;\n",
       "    }\n",
       "</style>\n",
       "<table border=\"1\" class=\"dataframe\">\n",
       "  <thead>\n",
       "    <tr style=\"text-align: right;\">\n",
       "      <th></th>\n",
       "      <th>NOCP</th>\n",
       "    </tr>\n",
       "    <tr>\n",
       "      <th>Date</th>\n",
       "      <th></th>\n",
       "    </tr>\n",
       "  </thead>\n",
       "  <tbody>\n",
       "    <tr>\n",
       "      <th>2019-05-09</th>\n",
       "      <td>200.72</td>\n",
       "    </tr>\n",
       "    <tr>\n",
       "      <th>2019-05-08</th>\n",
       "      <td>202.90</td>\n",
       "    </tr>\n",
       "    <tr>\n",
       "      <th>2019-05-07</th>\n",
       "      <td>202.86</td>\n",
       "    </tr>\n",
       "    <tr>\n",
       "      <th>2019-05-06</th>\n",
       "      <td>208.48</td>\n",
       "    </tr>\n",
       "    <tr>\n",
       "      <th>2019-05-03</th>\n",
       "      <td>211.75</td>\n",
       "    </tr>\n",
       "  </tbody>\n",
       "</table>\n",
       "</div>"
      ],
      "text/plain": [
       "              NOCP\n",
       "Date              \n",
       "2019-05-09  200.72\n",
       "2019-05-08  202.90\n",
       "2019-05-07  202.86\n",
       "2019-05-06  208.48\n",
       "2019-05-03  211.75"
      ]
     },
     "execution_count": 78,
     "metadata": {},
     "output_type": "execute_result"
    }
   ],
   "source": [
    "# APPLE stock\n",
    "aapl_csv = Path(\"Resources/aapl_historical.csv\")\n",
    "aapl_df = pd.read_csv(aapl_csv, index_col=\"Trade DATE\", infer_datetime_format=True, parse_dates=True)\n",
    "aapl_df.index.names=[\"Date\"]\n",
    "aapl_df.drop(columns=['Symbol'],axis=1,inplace = True)\n",
    "aapl_df.head()"
   ]
  },
  {
   "cell_type": "code",
   "execution_count": 79,
   "metadata": {},
   "outputs": [
    {
     "data": {
      "text/html": [
       "<div>\n",
       "<style scoped>\n",
       "    .dataframe tbody tr th:only-of-type {\n",
       "        vertical-align: middle;\n",
       "    }\n",
       "\n",
       "    .dataframe tbody tr th {\n",
       "        vertical-align: top;\n",
       "    }\n",
       "\n",
       "    .dataframe thead th {\n",
       "        text-align: right;\n",
       "    }\n",
       "</style>\n",
       "<table border=\"1\" class=\"dataframe\">\n",
       "  <thead>\n",
       "    <tr style=\"text-align: right;\">\n",
       "      <th></th>\n",
       "      <th>NOCP</th>\n",
       "    </tr>\n",
       "    <tr>\n",
       "      <th>Date</th>\n",
       "      <th></th>\n",
       "    </tr>\n",
       "  </thead>\n",
       "  <tbody>\n",
       "    <tr>\n",
       "      <th>2019-05-09</th>\n",
       "      <td>243.47</td>\n",
       "    </tr>\n",
       "    <tr>\n",
       "      <th>2019-05-08</th>\n",
       "      <td>241.34</td>\n",
       "    </tr>\n",
       "    <tr>\n",
       "      <th>2019-05-07</th>\n",
       "      <td>240.18</td>\n",
       "    </tr>\n",
       "    <tr>\n",
       "      <th>2019-05-06</th>\n",
       "      <td>244.23</td>\n",
       "    </tr>\n",
       "    <tr>\n",
       "      <th>2019-05-03</th>\n",
       "      <td>244.62</td>\n",
       "    </tr>\n",
       "  </tbody>\n",
       "</table>\n",
       "</div>"
      ],
      "text/plain": [
       "              NOCP\n",
       "Date              \n",
       "2019-05-09  243.47\n",
       "2019-05-08  241.34\n",
       "2019-05-07  240.18\n",
       "2019-05-06  244.23\n",
       "2019-05-03  244.62"
      ]
     },
     "execution_count": 79,
     "metadata": {},
     "output_type": "execute_result"
    }
   ],
   "source": [
    "# COST stock\n",
    "cost_csv = Path(\"Resources/cost_historical.csv\")\n",
    "cost_df = pd.read_csv(cost_csv, index_col=\"Trade DATE\", infer_datetime_format=True, parse_dates=True)\n",
    "cost_df.index.names=[\"Date\"]\n",
    "cost_df.drop(columns=['Symbol'],axis=1,inplace = True)\n",
    "cost_df.head()\n"
   ]
  },
  {
   "cell_type": "code",
   "execution_count": 80,
   "metadata": {},
   "outputs": [
    {
     "data": {
      "text/html": [
       "<div>\n",
       "<style scoped>\n",
       "    .dataframe tbody tr th:only-of-type {\n",
       "        vertical-align: middle;\n",
       "    }\n",
       "\n",
       "    .dataframe tbody tr th {\n",
       "        vertical-align: top;\n",
       "    }\n",
       "\n",
       "    .dataframe thead th {\n",
       "        text-align: right;\n",
       "    }\n",
       "</style>\n",
       "<table border=\"1\" class=\"dataframe\">\n",
       "  <thead>\n",
       "    <tr style=\"text-align: right;\">\n",
       "      <th></th>\n",
       "      <th>GOOGL</th>\n",
       "      <th>AAPL</th>\n",
       "      <th>COST</th>\n",
       "    </tr>\n",
       "    <tr>\n",
       "      <th>Date</th>\n",
       "      <th></th>\n",
       "      <th></th>\n",
       "      <th></th>\n",
       "    </tr>\n",
       "  </thead>\n",
       "  <tbody>\n",
       "    <tr>\n",
       "      <th>2019-05-09</th>\n",
       "      <td>1162.38</td>\n",
       "      <td>200.72</td>\n",
       "      <td>243.47</td>\n",
       "    </tr>\n",
       "    <tr>\n",
       "      <th>2019-05-08</th>\n",
       "      <td>1166.27</td>\n",
       "      <td>202.90</td>\n",
       "      <td>241.34</td>\n",
       "    </tr>\n",
       "    <tr>\n",
       "      <th>2019-05-07</th>\n",
       "      <td>1174.10</td>\n",
       "      <td>202.86</td>\n",
       "      <td>240.18</td>\n",
       "    </tr>\n",
       "    <tr>\n",
       "      <th>2019-05-06</th>\n",
       "      <td>1189.39</td>\n",
       "      <td>208.48</td>\n",
       "      <td>244.23</td>\n",
       "    </tr>\n",
       "    <tr>\n",
       "      <th>2019-05-03</th>\n",
       "      <td>1185.40</td>\n",
       "      <td>211.75</td>\n",
       "      <td>244.62</td>\n",
       "    </tr>\n",
       "  </tbody>\n",
       "</table>\n",
       "</div>"
      ],
      "text/plain": [
       "              GOOGL    AAPL    COST\n",
       "Date                               \n",
       "2019-05-09  1162.38  200.72  243.47\n",
       "2019-05-08  1166.27  202.90  241.34\n",
       "2019-05-07  1174.10  202.86  240.18\n",
       "2019-05-06  1189.39  208.48  244.23\n",
       "2019-05-03  1185.40  211.75  244.62"
      ]
     },
     "execution_count": 80,
     "metadata": {},
     "output_type": "execute_result"
    }
   ],
   "source": [
    "# Concatenate all stocks into a single DataFrame\n",
    "combined2 = pd.concat([goog_df, aapl_df, cost_df], axis = \"columns\", join = \"inner\")\n",
    "combined2.columns= [\"GOOGL\",\"AAPL\",\"COST\"]\n",
    "combined2.head()"
   ]
  },
  {
   "cell_type": "code",
   "execution_count": 81,
   "metadata": {},
   "outputs": [
    {
     "data": {
      "text/html": [
       "<div>\n",
       "<style scoped>\n",
       "    .dataframe tbody tr th:only-of-type {\n",
       "        vertical-align: middle;\n",
       "    }\n",
       "\n",
       "    .dataframe tbody tr th {\n",
       "        vertical-align: top;\n",
       "    }\n",
       "\n",
       "    .dataframe thead th {\n",
       "        text-align: right;\n",
       "    }\n",
       "</style>\n",
       "<table border=\"1\" class=\"dataframe\">\n",
       "  <thead>\n",
       "    <tr style=\"text-align: right;\">\n",
       "      <th></th>\n",
       "      <th>GOOGL</th>\n",
       "      <th>AAPL</th>\n",
       "      <th>COST</th>\n",
       "    </tr>\n",
       "    <tr>\n",
       "      <th>Date</th>\n",
       "      <th></th>\n",
       "      <th></th>\n",
       "      <th></th>\n",
       "    </tr>\n",
       "  </thead>\n",
       "  <tbody>\n",
       "    <tr>\n",
       "      <th>2018-05-11</th>\n",
       "      <td>1098.26</td>\n",
       "      <td>188.59</td>\n",
       "      <td>195.76</td>\n",
       "    </tr>\n",
       "    <tr>\n",
       "      <th>2018-05-14</th>\n",
       "      <td>1100.20</td>\n",
       "      <td>188.15</td>\n",
       "      <td>195.88</td>\n",
       "    </tr>\n",
       "    <tr>\n",
       "      <th>2018-05-15</th>\n",
       "      <td>1079.23</td>\n",
       "      <td>186.44</td>\n",
       "      <td>195.48</td>\n",
       "    </tr>\n",
       "    <tr>\n",
       "      <th>2018-05-16</th>\n",
       "      <td>1081.77</td>\n",
       "      <td>188.18</td>\n",
       "      <td>198.71</td>\n",
       "    </tr>\n",
       "    <tr>\n",
       "      <th>2018-05-17</th>\n",
       "      <td>1078.59</td>\n",
       "      <td>186.99</td>\n",
       "      <td>199.60</td>\n",
       "    </tr>\n",
       "  </tbody>\n",
       "</table>\n",
       "</div>"
      ],
      "text/plain": [
       "              GOOGL    AAPL    COST\n",
       "Date                               \n",
       "2018-05-11  1098.26  188.59  195.76\n",
       "2018-05-14  1100.20  188.15  195.88\n",
       "2018-05-15  1079.23  186.44  195.48\n",
       "2018-05-16  1081.77  188.18  198.71\n",
       "2018-05-17  1078.59  186.99  199.60"
      ]
     },
     "execution_count": 81,
     "metadata": {},
     "output_type": "execute_result"
    }
   ],
   "source": [
    "#combined2 = new_df\n",
    "combined2.sort_index(inplace=True)\n",
    "combined2.head()"
   ]
  },
  {
   "cell_type": "code",
   "execution_count": null,
   "metadata": {},
   "outputs": [],
   "source": [
    "# Pivot so that each column of prices represents a unique symbol\n",
    "# YOUR CODE HERE"
   ]
  },
  {
   "cell_type": "code",
   "execution_count": 82,
   "metadata": {},
   "outputs": [
    {
     "data": {
      "text/html": [
       "<div>\n",
       "<style scoped>\n",
       "    .dataframe tbody tr th:only-of-type {\n",
       "        vertical-align: middle;\n",
       "    }\n",
       "\n",
       "    .dataframe tbody tr th {\n",
       "        vertical-align: top;\n",
       "    }\n",
       "\n",
       "    .dataframe thead th {\n",
       "        text-align: right;\n",
       "    }\n",
       "</style>\n",
       "<table border=\"1\" class=\"dataframe\">\n",
       "  <thead>\n",
       "    <tr style=\"text-align: right;\">\n",
       "      <th></th>\n",
       "      <th>GOOGL</th>\n",
       "      <th>AAPL</th>\n",
       "      <th>COST</th>\n",
       "    </tr>\n",
       "    <tr>\n",
       "      <th>Date</th>\n",
       "      <th></th>\n",
       "      <th></th>\n",
       "      <th></th>\n",
       "    </tr>\n",
       "  </thead>\n",
       "  <tbody>\n",
       "    <tr>\n",
       "      <th>2018-05-11</th>\n",
       "      <td>1098.26</td>\n",
       "      <td>188.59</td>\n",
       "      <td>195.76</td>\n",
       "    </tr>\n",
       "    <tr>\n",
       "      <th>2018-05-14</th>\n",
       "      <td>1100.20</td>\n",
       "      <td>188.15</td>\n",
       "      <td>195.88</td>\n",
       "    </tr>\n",
       "    <tr>\n",
       "      <th>2018-05-15</th>\n",
       "      <td>1079.23</td>\n",
       "      <td>186.44</td>\n",
       "      <td>195.48</td>\n",
       "    </tr>\n",
       "    <tr>\n",
       "      <th>2018-05-16</th>\n",
       "      <td>1081.77</td>\n",
       "      <td>188.18</td>\n",
       "      <td>198.71</td>\n",
       "    </tr>\n",
       "    <tr>\n",
       "      <th>2018-05-17</th>\n",
       "      <td>1078.59</td>\n",
       "      <td>186.99</td>\n",
       "      <td>199.60</td>\n",
       "    </tr>\n",
       "  </tbody>\n",
       "</table>\n",
       "</div>"
      ],
      "text/plain": [
       "              GOOGL    AAPL    COST\n",
       "Date                               \n",
       "2018-05-11  1098.26  188.59  195.76\n",
       "2018-05-14  1100.20  188.15  195.88\n",
       "2018-05-15  1079.23  186.44  195.48\n",
       "2018-05-16  1081.77  188.18  198.71\n",
       "2018-05-17  1078.59  186.99  199.60"
      ]
     },
     "execution_count": 82,
     "metadata": {},
     "output_type": "execute_result"
    }
   ],
   "source": [
    "# Drop Nulls\n",
    "\n",
    "combined2.dropna()\n",
    "combined2.head()"
   ]
  },
  {
   "cell_type": "markdown",
   "metadata": {},
   "source": [
    "## Calculate the weighted returns for the portfolio assuming an equal number of shares for each stock"
   ]
  },
  {
   "cell_type": "code",
   "execution_count": 83,
   "metadata": {},
   "outputs": [
    {
     "data": {
      "text/html": [
       "<div>\n",
       "<style scoped>\n",
       "    .dataframe tbody tr th:only-of-type {\n",
       "        vertical-align: middle;\n",
       "    }\n",
       "\n",
       "    .dataframe tbody tr th {\n",
       "        vertical-align: top;\n",
       "    }\n",
       "\n",
       "    .dataframe thead th {\n",
       "        text-align: right;\n",
       "    }\n",
       "</style>\n",
       "<table border=\"1\" class=\"dataframe\">\n",
       "  <thead>\n",
       "    <tr style=\"text-align: right;\">\n",
       "      <th></th>\n",
       "      <th>0</th>\n",
       "    </tr>\n",
       "    <tr>\n",
       "      <th>Date</th>\n",
       "      <th></th>\n",
       "    </tr>\n",
       "  </thead>\n",
       "  <tbody>\n",
       "    <tr>\n",
       "      <th>2018-05-11</th>\n",
       "      <td>494.203333</td>\n",
       "    </tr>\n",
       "    <tr>\n",
       "      <th>2018-05-14</th>\n",
       "      <td>494.743333</td>\n",
       "    </tr>\n",
       "    <tr>\n",
       "      <th>2018-05-15</th>\n",
       "      <td>487.050000</td>\n",
       "    </tr>\n",
       "    <tr>\n",
       "      <th>2018-05-16</th>\n",
       "      <td>489.553333</td>\n",
       "    </tr>\n",
       "    <tr>\n",
       "      <th>2018-05-17</th>\n",
       "      <td>488.393333</td>\n",
       "    </tr>\n",
       "  </tbody>\n",
       "</table>\n",
       "</div>"
      ],
      "text/plain": [
       "                     0\n",
       "Date                  \n",
       "2018-05-11  494.203333\n",
       "2018-05-14  494.743333\n",
       "2018-05-15  487.050000\n",
       "2018-05-16  489.553333\n",
       "2018-05-17  488.393333"
      ]
     },
     "execution_count": 83,
     "metadata": {},
     "output_type": "execute_result"
    }
   ],
   "source": [
    "# Calculate weighted portfolio returns\n",
    "weights = [1/3, 1/3, 1/3]\n",
    "portfolio_returns = combined2.dot(weights)\n",
    "\n",
    "custom = pd.DataFrame(portfolio_returns)\n",
    "custom.head()"
   ]
  },
  {
   "cell_type": "markdown",
   "metadata": {},
   "source": [
    "## Join your portfolio returns to the DataFrame that contains all of the portfolio returns"
   ]
  },
  {
   "cell_type": "code",
   "execution_count": 84,
   "metadata": {
    "scrolled": true
   },
   "outputs": [],
   "source": [
    "# Add your \"Custom\" portfolio to the larger dataframe of fund returns\n",
    "combined3 = pd.concat([portfolio_returns, combined_df], axis='columns', join='inner')"
   ]
  },
  {
   "cell_type": "code",
   "execution_count": 85,
   "metadata": {},
   "outputs": [
    {
     "data": {
      "text/html": [
       "<div>\n",
       "<style scoped>\n",
       "    .dataframe tbody tr th:only-of-type {\n",
       "        vertical-align: middle;\n",
       "    }\n",
       "\n",
       "    .dataframe tbody tr th {\n",
       "        vertical-align: top;\n",
       "    }\n",
       "\n",
       "    .dataframe thead th {\n",
       "        text-align: right;\n",
       "    }\n",
       "</style>\n",
       "<table border=\"1\" class=\"dataframe\">\n",
       "  <thead>\n",
       "    <tr style=\"text-align: right;\">\n",
       "      <th></th>\n",
       "      <th>Custom</th>\n",
       "      <th>SOROS FUND MANAGEMENT LLC</th>\n",
       "      <th>PAULSON &amp; CO.INC.</th>\n",
       "      <th>TIGER GLOBAL MANAGEMENT LLC</th>\n",
       "      <th>BERKSHIRE HATHAWAY INC</th>\n",
       "      <th>Algo 1</th>\n",
       "      <th>Algo 2</th>\n",
       "      <th>S&amp;P 500</th>\n",
       "    </tr>\n",
       "    <tr>\n",
       "      <th>Date</th>\n",
       "      <th></th>\n",
       "      <th></th>\n",
       "      <th></th>\n",
       "      <th></th>\n",
       "      <th></th>\n",
       "      <th></th>\n",
       "      <th></th>\n",
       "      <th></th>\n",
       "    </tr>\n",
       "  </thead>\n",
       "  <tbody>\n",
       "    <tr>\n",
       "      <th>2018-05-11</th>\n",
       "      <td>494.203333</td>\n",
       "      <td>-0.004717</td>\n",
       "      <td>0.000982</td>\n",
       "      <td>0.002624</td>\n",
       "      <td>-0.004125</td>\n",
       "      <td>0.000358</td>\n",
       "      <td>0.000281</td>\n",
       "      <td>-0.000883</td>\n",
       "    </tr>\n",
       "    <tr>\n",
       "      <th>2018-05-14</th>\n",
       "      <td>494.743333</td>\n",
       "      <td>0.000000</td>\n",
       "      <td>0.000000</td>\n",
       "      <td>0.000000</td>\n",
       "      <td>0.000000</td>\n",
       "      <td>0.000915</td>\n",
       "      <td>0.001635</td>\n",
       "      <td>0.006889</td>\n",
       "    </tr>\n",
       "    <tr>\n",
       "      <th>2018-05-15</th>\n",
       "      <td>487.050000</td>\n",
       "      <td>-0.000726</td>\n",
       "      <td>-0.001409</td>\n",
       "      <td>-0.003189</td>\n",
       "      <td>-0.014606</td>\n",
       "      <td>-0.001135</td>\n",
       "      <td>-0.001139</td>\n",
       "      <td>-0.004044</td>\n",
       "    </tr>\n",
       "    <tr>\n",
       "      <th>2018-05-16</th>\n",
       "      <td>489.553333</td>\n",
       "      <td>0.008637</td>\n",
       "      <td>0.006244</td>\n",
       "      <td>0.005480</td>\n",
       "      <td>0.004310</td>\n",
       "      <td>-0.002326</td>\n",
       "      <td>0.003341</td>\n",
       "      <td>0.000857</td>\n",
       "    </tr>\n",
       "    <tr>\n",
       "      <th>2018-05-17</th>\n",
       "      <td>488.393333</td>\n",
       "      <td>-0.001955</td>\n",
       "      <td>0.002524</td>\n",
       "      <td>-0.006267</td>\n",
       "      <td>-0.005140</td>\n",
       "      <td>-0.006949</td>\n",
       "      <td>0.005205</td>\n",
       "      <td>0.002639</td>\n",
       "    </tr>\n",
       "  </tbody>\n",
       "</table>\n",
       "</div>"
      ],
      "text/plain": [
       "                Custom  SOROS FUND MANAGEMENT LLC  PAULSON & CO.INC.   \\\n",
       "Date                                                                    \n",
       "2018-05-11  494.203333                  -0.004717            0.000982   \n",
       "2018-05-14  494.743333                   0.000000            0.000000   \n",
       "2018-05-15  487.050000                  -0.000726           -0.001409   \n",
       "2018-05-16  489.553333                   0.008637            0.006244   \n",
       "2018-05-17  488.393333                  -0.001955            0.002524   \n",
       "\n",
       "            TIGER GLOBAL MANAGEMENT LLC  BERKSHIRE HATHAWAY INC    Algo 1  \\\n",
       "Date                                                                        \n",
       "2018-05-11                     0.002624               -0.004125  0.000358   \n",
       "2018-05-14                     0.000000                0.000000  0.000915   \n",
       "2018-05-15                    -0.003189               -0.014606 -0.001135   \n",
       "2018-05-16                     0.005480                0.004310 -0.002326   \n",
       "2018-05-17                    -0.006267               -0.005140 -0.006949   \n",
       "\n",
       "              Algo 2   S&P 500  \n",
       "Date                            \n",
       "2018-05-11  0.000281 -0.000883  \n",
       "2018-05-14  0.001635  0.006889  \n",
       "2018-05-15 -0.001139 -0.004044  \n",
       "2018-05-16  0.003341  0.000857  \n",
       "2018-05-17  0.005205  0.002639  "
      ]
     },
     "execution_count": 85,
     "metadata": {},
     "output_type": "execute_result"
    }
   ],
   "source": [
    "# Only compare dates where return data exists for all the stocks (drop NaNs)\n",
    "combined3.rename(columns= {0: \"Custom\"},inplace = True )\n",
    "combined3.dropna(inplace=True)\n",
    "combined3.sort_index()\n",
    "combined3.head()"
   ]
  },
  {
   "cell_type": "markdown",
   "metadata": {},
   "source": [
    "## Re-run the performance and risk analysis with your portfolio to see how it compares to the others"
   ]
  },
  {
   "cell_type": "code",
   "execution_count": 86,
   "metadata": {},
   "outputs": [
    {
     "data": {
      "text/plain": [
       "Custom                         469.293050\n",
       "SOROS FUND MANAGEMENT LLC        0.146589\n",
       "PAULSON & CO.INC.                0.116683\n",
       "TIGER GLOBAL MANAGEMENT LLC      0.232434\n",
       "BERKSHIRE HATHAWAY INC           0.246819\n",
       "Algo 1                           0.133645\n",
       "Algo 2                           0.139204\n",
       "S&P 500                          0.152147\n",
       "dtype: float64"
      ]
     },
     "execution_count": 86,
     "metadata": {},
     "output_type": "execute_result"
    }
   ],
   "source": [
    "# Risk\n",
    "combined3.std()\n",
    "annualized_variance_pt2 = (combined3.var()*252)\n",
    "annualized_std_pt2 = np.sqrt(annualized_variance_pt2)\n",
    "annualized_std_pt2"
   ]
  },
  {
   "cell_type": "code",
   "execution_count": 88,
   "metadata": {},
   "outputs": [
    {
     "data": {
      "text/plain": [
       "<matplotlib.axes._subplots.AxesSubplot at 0x7fba4e5b6b50>"
      ]
     },
     "execution_count": 88,
     "metadata": {},
     "output_type": "execute_result"
    },
    {
     "data": {
      "image/png": "[encoded data removed]",
      "text/plain": [
       "<Figure size 1440x720 with 1 Axes>"
      ]
     },
     "metadata": {
      "needs_background": "light"
     },
     "output_type": "display_data"
    }
   ],
   "source": [
    "# Rolling\n",
    "rolling_variance = combined3['Custom'].rolling(window=21).var()\n",
    "rolling_covariance = combined3['Custom'].rolling(window=21).cov(combined3['S&P 500'])\n",
    "rolling_beta = rolling_covariance / rolling_variance\n",
    "rolling_beta.plot(figsize=(20, 10), title='Custom Beta')"
   ]
  },
  {
   "cell_type": "code",
   "execution_count": 89,
   "metadata": {},
   "outputs": [
    {
     "data": {
      "text/plain": [
       "Custom                         276.561091\n",
       "SOROS FUND MANAGEMENT LLC        0.344766\n",
       "PAULSON & CO.INC.                0.236041\n",
       "TIGER GLOBAL MANAGEMENT LLC     -1.052249\n",
       "BERKSHIRE HATHAWAY INC           0.085005\n",
       "Algo 1                           1.999866\n",
       "Algo 2                           0.009467\n",
       "S&P 500                         -0.432942\n",
       "dtype: float64"
      ]
     },
     "execution_count": 89,
     "metadata": {},
     "output_type": "execute_result"
    }
   ],
   "source": [
    "# Annualized Sharpe Ratios\n",
    "sharpe_ratios_all = (combined3.mean() * 252) / ((combined3).std() * np.sqrt(252))\n",
    "sharpe_ratios_all"
   ]
  },
  {
   "cell_type": "code",
   "execution_count": 90,
   "metadata": {},
   "outputs": [
    {
     "data": {
      "text/plain": [
       "<matplotlib.axes._subplots.AxesSubplot at 0x7fba4e4c36a0>"
      ]
     },
     "execution_count": 90,
     "metadata": {},
     "output_type": "execute_result"
    },
    {
     "data": {
      "image/png": "[encoded data removed]",
      "text/plain": [
       "<Figure size 432x288 with 1 Axes>"
      ]
     },
     "metadata": {
      "needs_background": "light"
     },
     "output_type": "display_data"
    }
   ],
   "source": [
    "# Visualize the sharpe ratios as a bar plot\n",
    "sharpe_ratios_all.plot(kind=\"bar\", title=\"Sharpe Ratios\")"
   ]
  },
  {
   "cell_type": "code",
   "execution_count": 91,
   "metadata": {},
   "outputs": [
    {
     "data": {
      "text/html": [
       "<div>\n",
       "<style scoped>\n",
       "    .dataframe tbody tr th:only-of-type {\n",
       "        vertical-align: middle;\n",
       "    }\n",
       "\n",
       "    .dataframe tbody tr th {\n",
       "        vertical-align: top;\n",
       "    }\n",
       "\n",
       "    .dataframe thead th {\n",
       "        text-align: right;\n",
       "    }\n",
       "</style>\n",
       "<table border=\"1\" class=\"dataframe\">\n",
       "  <thead>\n",
       "    <tr style=\"text-align: right;\">\n",
       "      <th></th>\n",
       "      <th>Custom</th>\n",
       "      <th>SOROS FUND MANAGEMENT LLC</th>\n",
       "      <th>PAULSON &amp; CO.INC.</th>\n",
       "      <th>TIGER GLOBAL MANAGEMENT LLC</th>\n",
       "      <th>BERKSHIRE HATHAWAY INC</th>\n",
       "      <th>Algo 1</th>\n",
       "      <th>Algo 2</th>\n",
       "      <th>S&amp;P 500</th>\n",
       "    </tr>\n",
       "  </thead>\n",
       "  <tbody>\n",
       "    <tr>\n",
       "      <th>Custom</th>\n",
       "      <td>1.000000</td>\n",
       "      <td>0.080041</td>\n",
       "      <td>0.104469</td>\n",
       "      <td>0.081479</td>\n",
       "      <td>0.023743</td>\n",
       "      <td>-0.054265</td>\n",
       "      <td>0.082000</td>\n",
       "      <td>0.050589</td>\n",
       "    </tr>\n",
       "    <tr>\n",
       "      <th>SOROS FUND MANAGEMENT LLC</th>\n",
       "      <td>0.080041</td>\n",
       "      <td>1.000000</td>\n",
       "      <td>0.791031</td>\n",
       "      <td>0.476938</td>\n",
       "      <td>0.816190</td>\n",
       "      <td>0.336890</td>\n",
       "      <td>0.861989</td>\n",
       "      <td>-0.028091</td>\n",
       "    </tr>\n",
       "    <tr>\n",
       "      <th>PAULSON &amp; CO.INC.</th>\n",
       "      <td>0.104469</td>\n",
       "      <td>0.791031</td>\n",
       "      <td>1.000000</td>\n",
       "      <td>0.484917</td>\n",
       "      <td>0.650132</td>\n",
       "      <td>0.360668</td>\n",
       "      <td>0.783856</td>\n",
       "      <td>-0.059893</td>\n",
       "    </tr>\n",
       "    <tr>\n",
       "      <th>TIGER GLOBAL MANAGEMENT LLC</th>\n",
       "      <td>0.081479</td>\n",
       "      <td>0.476938</td>\n",
       "      <td>0.484917</td>\n",
       "      <td>1.000000</td>\n",
       "      <td>0.323931</td>\n",
       "      <td>0.113568</td>\n",
       "      <td>0.408381</td>\n",
       "      <td>0.005812</td>\n",
       "    </tr>\n",
       "    <tr>\n",
       "      <th>BERKSHIRE HATHAWAY INC</th>\n",
       "      <td>0.023743</td>\n",
       "      <td>0.816190</td>\n",
       "      <td>0.650132</td>\n",
       "      <td>0.323931</td>\n",
       "      <td>1.000000</td>\n",
       "      <td>0.326025</td>\n",
       "      <td>0.781894</td>\n",
       "      <td>-0.038751</td>\n",
       "    </tr>\n",
       "    <tr>\n",
       "      <th>Algo 1</th>\n",
       "      <td>-0.054265</td>\n",
       "      <td>0.336890</td>\n",
       "      <td>0.360668</td>\n",
       "      <td>0.113568</td>\n",
       "      <td>0.326025</td>\n",
       "      <td>1.000000</td>\n",
       "      <td>0.364440</td>\n",
       "      <td>-0.054454</td>\n",
       "    </tr>\n",
       "    <tr>\n",
       "      <th>Algo 2</th>\n",
       "      <td>0.082000</td>\n",
       "      <td>0.861989</td>\n",
       "      <td>0.783856</td>\n",
       "      <td>0.408381</td>\n",
       "      <td>0.781894</td>\n",
       "      <td>0.364440</td>\n",
       "      <td>1.000000</td>\n",
       "      <td>-0.042549</td>\n",
       "    </tr>\n",
       "    <tr>\n",
       "      <th>S&amp;P 500</th>\n",
       "      <td>0.050589</td>\n",
       "      <td>-0.028091</td>\n",
       "      <td>-0.059893</td>\n",
       "      <td>0.005812</td>\n",
       "      <td>-0.038751</td>\n",
       "      <td>-0.054454</td>\n",
       "      <td>-0.042549</td>\n",
       "      <td>1.000000</td>\n",
       "    </tr>\n",
       "  </tbody>\n",
       "</table>\n",
       "</div>"
      ],
      "text/plain": [
       "                               Custom  SOROS FUND MANAGEMENT LLC  \\\n",
       "Custom                       1.000000                   0.080041   \n",
       "SOROS FUND MANAGEMENT LLC    0.080041                   1.000000   \n",
       "PAULSON & CO.INC.            0.104469                   0.791031   \n",
       "TIGER GLOBAL MANAGEMENT LLC  0.081479                   0.476938   \n",
       "BERKSHIRE HATHAWAY INC       0.023743                   0.816190   \n",
       "Algo 1                      -0.054265                   0.336890   \n",
       "Algo 2                       0.082000                   0.861989   \n",
       "S&P 500                      0.050589                  -0.028091   \n",
       "\n",
       "                             PAULSON & CO.INC.   TIGER GLOBAL MANAGEMENT LLC  \\\n",
       "Custom                                 0.104469                     0.081479   \n",
       "SOROS FUND MANAGEMENT LLC              0.791031                     0.476938   \n",
       "PAULSON & CO.INC.                      1.000000                     0.484917   \n",
       "TIGER GLOBAL MANAGEMENT LLC            0.484917                     1.000000   \n",
       "BERKSHIRE HATHAWAY INC                 0.650132                     0.323931   \n",
       "Algo 1                                 0.360668                     0.113568   \n",
       "Algo 2                                 0.783856                     0.408381   \n",
       "S&P 500                               -0.059893                     0.005812   \n",
       "\n",
       "                             BERKSHIRE HATHAWAY INC    Algo 1    Algo 2  \\\n",
       "Custom                                     0.023743 -0.054265  0.082000   \n",
       "SOROS FUND MANAGEMENT LLC                  0.816190  0.336890  0.861989   \n",
       "PAULSON & CO.INC.                          0.650132  0.360668  0.783856   \n",
       "TIGER GLOBAL MANAGEMENT LLC                0.323931  0.113568  0.408381   \n",
       "BERKSHIRE HATHAWAY INC                     1.000000  0.326025  0.781894   \n",
       "Algo 1                                     0.326025  1.000000  0.364440   \n",
       "Algo 2                                     0.781894  0.364440  1.000000   \n",
       "S&P 500                                   -0.038751 -0.054454 -0.042549   \n",
       "\n",
       "                              S&P 500  \n",
       "Custom                       0.050589  \n",
       "SOROS FUND MANAGEMENT LLC   -0.028091  \n",
       "PAULSON & CO.INC.           -0.059893  \n",
       "TIGER GLOBAL MANAGEMENT LLC  0.005812  \n",
       "BERKSHIRE HATHAWAY INC      -0.038751  \n",
       "Algo 1                      -0.054454  \n",
       "Algo 2                      -0.042549  \n",
       "S&P 500                      1.000000  "
      ]
     },
     "execution_count": 91,
     "metadata": {},
     "output_type": "execute_result"
    }
   ],
   "source": [
    "# Create a correlation analysis\n",
    "correlation = combined3.corr()\n",
    "correlation"
   ]
  },
  {
   "cell_type": "code",
   "execution_count": null,
   "metadata": {},
   "outputs": [],
   "source": [
    "#HeatMap\n",
    "sns.heatmap(correlation, vmin=-1, vmax=1)"
   ]
  },
  {
   "cell_type": "code",
   "execution_count": 97,
   "metadata": {},
   "outputs": [
    {
     "ename": "KeyError",
     "evalue": "'S&P 500'",
     "output_type": "error",
     "traceback": [
      "\u001b[0;31m---------------------------------------------------------------------------\u001b[0m",
      "\u001b[0;31mKeyError\u001b[0m                                  Traceback (most recent call last)",
      "\u001b[0;32m~/anaconda3/lib/python3.8/site-packages/pandas/core/indexes/base.py\u001b[0m in \u001b[0;36mget_loc\u001b[0;34m(self, key, method, tolerance)\u001b[0m\n\u001b[1;32m   2645\u001b[0m             \u001b[0;32mtry\u001b[0m\u001b[0;34m:\u001b[0m\u001b[0;34m\u001b[0m\u001b[0;34m\u001b[0m\u001b[0m\n\u001b[0;32m-> 2646\u001b[0;31m                 \u001b[0;32mreturn\u001b[0m \u001b[0mself\u001b[0m\u001b[0;34m.\u001b[0m\u001b[0m_engine\u001b[0m\u001b[0;34m.\u001b[0m\u001b[0mget_loc\u001b[0m\u001b[0;34m(\u001b[0m\u001b[0mkey\u001b[0m\u001b[0;34m)\u001b[0m\u001b[0;34m\u001b[0m\u001b[0;34m\u001b[0m\u001b[0m\n\u001b[0m\u001b[1;32m   2647\u001b[0m             \u001b[0;32mexcept\u001b[0m \u001b[0mKeyError\u001b[0m\u001b[0;34m:\u001b[0m\u001b[0;34m\u001b[0m\u001b[0;34m\u001b[0m\u001b[0m\n",
      "\u001b[0;32mpandas/_libs/index.pyx\u001b[0m in \u001b[0;36mpandas._libs.index.IndexEngine.get_loc\u001b[0;34m()\u001b[0m\n",
      "\u001b[0;32mpandas/_libs/index.pyx\u001b[0m in \u001b[0;36mpandas._libs.index.IndexEngine.get_loc\u001b[0;34m()\u001b[0m\n",
      "\u001b[0;32mpandas/_libs/hashtable_class_helper.pxi\u001b[0m in \u001b[0;36mpandas._libs.hashtable.PyObjectHashTable.get_item\u001b[0;34m()\u001b[0m\n",
      "\u001b[0;32mpandas/_libs/hashtable_class_helper.pxi\u001b[0m in \u001b[0;36mpandas._libs.hashtable.PyObjectHashTable.get_item\u001b[0;34m()\u001b[0m\n",
      "\u001b[0;31mKeyError\u001b[0m: 'S&P 500'",
      "\nDuring handling of the above exception, another exception occurred:\n",
      "\u001b[0;31mKeyError\u001b[0m                                  Traceback (most recent call last)",
      "\u001b[0;32m<ipython-input-97-e7f342416ad4>\u001b[0m in \u001b[0;36m<module>\u001b[0;34m\u001b[0m\n\u001b[1;32m      2\u001b[0m \u001b[0malgo_SP500\u001b[0m \u001b[0;34m=\u001b[0m \u001b[0mpd\u001b[0m\u001b[0;34m.\u001b[0m\u001b[0mconcat\u001b[0m\u001b[0;34m(\u001b[0m\u001b[0;34m[\u001b[0m\u001b[0malgo_returns\u001b[0m\u001b[0;34m,\u001b[0m \u001b[0msp500_history\u001b[0m\u001b[0;34m]\u001b[0m\u001b[0;34m,\u001b[0m \u001b[0maxis\u001b[0m\u001b[0;34m=\u001b[0m\u001b[0;34m'columns'\u001b[0m\u001b[0;34m,\u001b[0m \u001b[0mjoin\u001b[0m\u001b[0;34m=\u001b[0m\u001b[0;34m'inner'\u001b[0m\u001b[0;34m)\u001b[0m\u001b[0;34m\u001b[0m\u001b[0;34m\u001b[0m\u001b[0m\n\u001b[1;32m      3\u001b[0m \u001b[0malgo_SP500\u001b[0m \u001b[0;34m=\u001b[0m \u001b[0malgo_SP500\u001b[0m\u001b[0;34m.\u001b[0m\u001b[0mdrop\u001b[0m\u001b[0;34m(\u001b[0m\u001b[0mcolumns\u001b[0m \u001b[0;34m=\u001b[0m \u001b[0;34m[\u001b[0m\u001b[0;34m'Algo 1'\u001b[0m\u001b[0;34m]\u001b[0m\u001b[0;34m)\u001b[0m\u001b[0;34m\u001b[0m\u001b[0;34m\u001b[0m\u001b[0m\n\u001b[0;32m----> 4\u001b[0;31m \u001b[0mcovariance\u001b[0m \u001b[0;34m=\u001b[0m \u001b[0malgo_SP500\u001b[0m\u001b[0;34m[\u001b[0m\u001b[0;34m'Algo 2'\u001b[0m\u001b[0;34m]\u001b[0m\u001b[0;34m.\u001b[0m\u001b[0mcov\u001b[0m\u001b[0;34m(\u001b[0m\u001b[0malgo_SP500\u001b[0m\u001b[0;34m[\u001b[0m\u001b[0;34m'S&P 500'\u001b[0m\u001b[0;34m]\u001b[0m\u001b[0;34m)\u001b[0m\u001b[0;34m\u001b[0m\u001b[0;34m\u001b[0m\u001b[0m\n\u001b[0m\u001b[1;32m      5\u001b[0m \u001b[0mvariance\u001b[0m \u001b[0;34m=\u001b[0m \u001b[0malgo_SP500\u001b[0m\u001b[0;34m[\u001b[0m\u001b[0;34m'S&P 500'\u001b[0m\u001b[0;34m]\u001b[0m\u001b[0;34m.\u001b[0m\u001b[0mvar\u001b[0m\u001b[0;34m(\u001b[0m\u001b[0;34m)\u001b[0m\u001b[0;34m\u001b[0m\u001b[0;34m\u001b[0m\u001b[0m\n\u001b[1;32m      6\u001b[0m \u001b[0mAlgo2_beta\u001b[0m \u001b[0;34m=\u001b[0m \u001b[0mcovariance\u001b[0m \u001b[0;34m/\u001b[0m \u001b[0mvariance\u001b[0m\u001b[0;34m\u001b[0m\u001b[0;34m\u001b[0m\u001b[0m\n",
      "\u001b[0;32m~/anaconda3/lib/python3.8/site-packages/pandas/core/frame.py\u001b[0m in \u001b[0;36m__getitem__\u001b[0;34m(self, key)\u001b[0m\n\u001b[1;32m   2798\u001b[0m             \u001b[0;32mif\u001b[0m \u001b[0mself\u001b[0m\u001b[0;34m.\u001b[0m\u001b[0mcolumns\u001b[0m\u001b[0;34m.\u001b[0m\u001b[0mnlevels\u001b[0m \u001b[0;34m>\u001b[0m \u001b[0;36m1\u001b[0m\u001b[0;34m:\u001b[0m\u001b[0;34m\u001b[0m\u001b[0;34m\u001b[0m\u001b[0m\n\u001b[1;32m   2799\u001b[0m                 \u001b[0;32mreturn\u001b[0m \u001b[0mself\u001b[0m\u001b[0;34m.\u001b[0m\u001b[0m_getitem_multilevel\u001b[0m\u001b[0;34m(\u001b[0m\u001b[0mkey\u001b[0m\u001b[0;34m)\u001b[0m\u001b[0;34m\u001b[0m\u001b[0;34m\u001b[0m\u001b[0m\n\u001b[0;32m-> 2800\u001b[0;31m             \u001b[0mindexer\u001b[0m \u001b[0;34m=\u001b[0m \u001b[0mself\u001b[0m\u001b[0;34m.\u001b[0m\u001b[0mcolumns\u001b[0m\u001b[0;34m.\u001b[0m\u001b[0mget_loc\u001b[0m\u001b[0;34m(\u001b[0m\u001b[0mkey\u001b[0m\u001b[0;34m)\u001b[0m\u001b[0;34m\u001b[0m\u001b[0;34m\u001b[0m\u001b[0m\n\u001b[0m\u001b[1;32m   2801\u001b[0m             \u001b[0;32mif\u001b[0m \u001b[0mis_integer\u001b[0m\u001b[0;34m(\u001b[0m\u001b[0mindexer\u001b[0m\u001b[0;34m)\u001b[0m\u001b[0;34m:\u001b[0m\u001b[0;34m\u001b[0m\u001b[0;34m\u001b[0m\u001b[0m\n\u001b[1;32m   2802\u001b[0m                 \u001b[0mindexer\u001b[0m \u001b[0;34m=\u001b[0m \u001b[0;34m[\u001b[0m\u001b[0mindexer\u001b[0m\u001b[0;34m]\u001b[0m\u001b[0;34m\u001b[0m\u001b[0;34m\u001b[0m\u001b[0m\n",
      "\u001b[0;32m~/anaconda3/lib/python3.8/site-packages/pandas/core/indexes/base.py\u001b[0m in \u001b[0;36mget_loc\u001b[0;34m(self, key, method, tolerance)\u001b[0m\n\u001b[1;32m   2646\u001b[0m                 \u001b[0;32mreturn\u001b[0m \u001b[0mself\u001b[0m\u001b[0;34m.\u001b[0m\u001b[0m_engine\u001b[0m\u001b[0;34m.\u001b[0m\u001b[0mget_loc\u001b[0m\u001b[0;34m(\u001b[0m\u001b[0mkey\u001b[0m\u001b[0;34m)\u001b[0m\u001b[0;34m\u001b[0m\u001b[0;34m\u001b[0m\u001b[0m\n\u001b[1;32m   2647\u001b[0m             \u001b[0;32mexcept\u001b[0m \u001b[0mKeyError\u001b[0m\u001b[0;34m:\u001b[0m\u001b[0;34m\u001b[0m\u001b[0;34m\u001b[0m\u001b[0m\n\u001b[0;32m-> 2648\u001b[0;31m                 \u001b[0;32mreturn\u001b[0m \u001b[0mself\u001b[0m\u001b[0;34m.\u001b[0m\u001b[0m_engine\u001b[0m\u001b[0;34m.\u001b[0m\u001b[0mget_loc\u001b[0m\u001b[0;34m(\u001b[0m\u001b[0mself\u001b[0m\u001b[0;34m.\u001b[0m\u001b[0m_maybe_cast_indexer\u001b[0m\u001b[0;34m(\u001b[0m\u001b[0mkey\u001b[0m\u001b[0;34m)\u001b[0m\u001b[0;34m)\u001b[0m\u001b[0;34m\u001b[0m\u001b[0;34m\u001b[0m\u001b[0m\n\u001b[0m\u001b[1;32m   2649\u001b[0m         \u001b[0mindexer\u001b[0m \u001b[0;34m=\u001b[0m \u001b[0mself\u001b[0m\u001b[0;34m.\u001b[0m\u001b[0mget_indexer\u001b[0m\u001b[0;34m(\u001b[0m\u001b[0;34m[\u001b[0m\u001b[0mkey\u001b[0m\u001b[0;34m]\u001b[0m\u001b[0;34m,\u001b[0m \u001b[0mmethod\u001b[0m\u001b[0;34m=\u001b[0m\u001b[0mmethod\u001b[0m\u001b[0;34m,\u001b[0m \u001b[0mtolerance\u001b[0m\u001b[0;34m=\u001b[0m\u001b[0mtolerance\u001b[0m\u001b[0;34m)\u001b[0m\u001b[0;34m\u001b[0m\u001b[0;34m\u001b[0m\u001b[0m\n\u001b[1;32m   2650\u001b[0m         \u001b[0;32mif\u001b[0m \u001b[0mindexer\u001b[0m\u001b[0;34m.\u001b[0m\u001b[0mndim\u001b[0m \u001b[0;34m>\u001b[0m \u001b[0;36m1\u001b[0m \u001b[0;32mor\u001b[0m \u001b[0mindexer\u001b[0m\u001b[0;34m.\u001b[0m\u001b[0msize\u001b[0m \u001b[0;34m>\u001b[0m \u001b[0;36m1\u001b[0m\u001b[0;34m:\u001b[0m\u001b[0;34m\u001b[0m\u001b[0;34m\u001b[0m\u001b[0m\n",
      "\u001b[0;32mpandas/_libs/index.pyx\u001b[0m in \u001b[0;36mpandas._libs.index.IndexEngine.get_loc\u001b[0;34m()\u001b[0m\n",
      "\u001b[0;32mpandas/_libs/index.pyx\u001b[0m in \u001b[0;36mpandas._libs.index.IndexEngine.get_loc\u001b[0;34m()\u001b[0m\n",
      "\u001b[0;32mpandas/_libs/hashtable_class_helper.pxi\u001b[0m in \u001b[0;36mpandas._libs.hashtable.PyObjectHashTable.get_item\u001b[0;34m()\u001b[0m\n",
      "\u001b[0;32mpandas/_libs/hashtable_class_helper.pxi\u001b[0m in \u001b[0;36mpandas._libs.hashtable.PyObjectHashTable.get_item\u001b[0;34m()\u001b[0m\n",
      "\u001b[0;31mKeyError\u001b[0m: 'S&P 500'"
     ]
    }
   ],
   "source": [
    "# Beta\n",
    "algo_SP500 = pd.concat([algo_returns, sp500_history], axis='columns', join='inner')\n",
    "algo_SP500 = algo_SP500.drop(columns = ['Algo 1'])\n",
    "covariance = algo_SP500['Algo 2'].cov(algo_SP500['S&P 500'])\n",
    "variance = algo_SP500['S&P 500'].var()\n",
    "Algo2_beta = covariance / variance\n",
    "Algo2_beta"
   ]
  },
  {
   "cell_type": "code",
   "execution_count": null,
   "metadata": {},
   "outputs": [],
   "source": []
  }
 ],
 "metadata": {
  "file_extension": ".py",
  "kernelspec": {
   "display_name": "Python 3",
   "language": "python",
   "name": "python3"
  },
  "language_info": {
   "codemirror_mode": {
    "name": "ipython",
    "version": 3
   },
   "file_extension": ".py",
   "mimetype": "text/x-python",
   "name": "python",
   "nbconvert_exporter": "python",
   "pygments_lexer": "ipython3",
   "version": "3.8.3"
  },
  "mimetype": "text/x-python",
  "name": "python",
  "npconvert_exporter": "python",
  "pygments_lexer": "ipython3",
  "version": 3
 },
 "nbformat": 4,
 "nbformat_minor": 4
}
